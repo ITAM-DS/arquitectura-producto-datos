{
 "cells": [
  {
   "cell_type": "markdown",
   "id": "9debe798-106b-4ed3-a81c-2cf82e5b44a4",
   "metadata": {},
   "source": [
    "# Vertex AI Training and Endpoints\n",
    "### Predict the fuel efficiency of a vehicle"
   ]
  },
  {
   "cell_type": "markdown",
   "id": "cefacb71-d0a8-4cf2-86aa-d897ed65e8bb",
   "metadata": {},
   "source": [
    "### Environment setup"
   ]
  },
  {
   "cell_type": "code",
   "execution_count": 1,
   "id": "35381f1f-bad5-4c5c-9e69-953a9e7bed74",
   "metadata": {},
   "outputs": [
    {
     "name": "stdout",
     "output_type": "stream",
     "text": [
      "Updated property [core/project].\n"
     ]
    }
   ],
   "source": [
    "# Setting project\n",
    "!gcloud config set project itam-dpa-2022"
   ]
  },
  {
   "cell_type": "code",
   "execution_count": 2,
   "id": "d38e580c-aa39-4294-a12b-972b33ed6adf",
   "metadata": {},
   "outputs": [
    {
     "name": "stdout",
     "output_type": "stream",
     "text": [
      "Operation \"operations/acat.p2-171673689672-c78af7da-be59-4648-853d-9a26c84154fd\" finished successfully.\n"
     ]
    }
   ],
   "source": [
    "# Enable all the APIs that we are going to use\n",
    "! gcloud services enable compute.googleapis.com \\\n",
    "                       containerregistry.googleapis.com \\\n",
    "                       aiplatform.googleapis.com \\\n",
    "                       cloudbuild.googleapis.com"
   ]
  },
  {
   "cell_type": "code",
   "execution_count": 3,
   "id": "99b0a0e0-e926-4060-977b-6e9934d166d0",
   "metadata": {},
   "outputs": [
    {
     "name": "stdout",
     "output_type": "stream",
     "text": [
      "Creating gs://itam-dpa-2022-model2/...\n",
      "ServiceException: 409 A Cloud Storage bucket named 'itam-dpa-2022-model2' already exists. Try another name. Bucket names must be globally unique across all Google Cloud projects, including those outside of your organization.\n"
     ]
    }
   ],
   "source": [
    "# Creating a new bucket (in a specific region)\n",
    "!gsutil mb -l us-central1 gs://itam-dpa-2022-model2"
   ]
  },
  {
   "cell_type": "markdown",
   "id": "45a6a52a-8c7a-4d6e-8bf4-a202b94299c0",
   "metadata": {},
   "source": [
    "### Modeling"
   ]
  },
  {
   "cell_type": "code",
   "execution_count": 4,
   "id": "15f40bca-80fb-4860-a18a-f3724bd3d782",
   "metadata": {},
   "outputs": [
    {
     "name": "stdout",
     "output_type": "stream",
     "text": [
      "2.8.0\n"
     ]
    }
   ],
   "source": [
    "import numpy as np\n",
    "import pandas as pd\n",
    "import pathlib\n",
    "import tensorflow as tf\n",
    "\n",
    "from tensorflow import keras\n",
    "from tensorflow.keras import layers\n",
    "\n",
    "print(tf.__version__)"
   ]
  },
  {
   "cell_type": "code",
   "execution_count": 5,
   "id": "e2d4861e-4987-45df-a820-d0f457f8434a",
   "metadata": {},
   "outputs": [],
   "source": [
    "BUCKET = \"gs://itam-dpa-2022-model2\""
   ]
  },
  {
   "cell_type": "code",
   "execution_count": 6,
   "id": "5dfddf83-d4a8-4a2b-9000-bda65431edd5",
   "metadata": {},
   "outputs": [
    {
     "data": {
      "text/plain": [
       "(398, 9)"
      ]
     },
     "execution_count": 6,
     "metadata": {},
     "output_type": "execute_result"
    }
   ],
   "source": [
    "# Import data it using pandas\n",
    "\n",
    "\"\"\"## The Auto MPG dataset\n",
    "\n",
    "The dataset is available from the [UCI Machine Learning Repository](https://archive.ics.uci.edu/ml/).\n",
    "\n",
    "### Get the data\n",
    "First download the dataset.\n",
    "\"\"\"\n",
    "\n",
    "dataset_path = \"https://storage.googleapis.com/io-vertex-codelab/auto-mpg.csv\"\n",
    "dataset = pd.read_csv(dataset_path, na_values = \"?\")\n",
    "dataset.shape"
   ]
  },
  {
   "cell_type": "code",
   "execution_count": 7,
   "id": "681c12a0-a2f9-4563-ae4e-28221c83f56c",
   "metadata": {},
   "outputs": [
    {
     "data": {
      "text/html": [
       "<div>\n",
       "<style scoped>\n",
       "    .dataframe tbody tr th:only-of-type {\n",
       "        vertical-align: middle;\n",
       "    }\n",
       "\n",
       "    .dataframe tbody tr th {\n",
       "        vertical-align: top;\n",
       "    }\n",
       "\n",
       "    .dataframe thead th {\n",
       "        text-align: right;\n",
       "    }\n",
       "</style>\n",
       "<table border=\"1\" class=\"dataframe\">\n",
       "  <thead>\n",
       "    <tr style=\"text-align: right;\">\n",
       "      <th></th>\n",
       "      <th>mpg</th>\n",
       "      <th>cylinders</th>\n",
       "      <th>displacement</th>\n",
       "      <th>horsepower</th>\n",
       "      <th>weight</th>\n",
       "      <th>acceleration</th>\n",
       "      <th>model year</th>\n",
       "      <th>origin</th>\n",
       "      <th>car name</th>\n",
       "    </tr>\n",
       "  </thead>\n",
       "  <tbody>\n",
       "    <tr>\n",
       "      <th>393</th>\n",
       "      <td>27.0</td>\n",
       "      <td>4</td>\n",
       "      <td>140.0</td>\n",
       "      <td>86.0</td>\n",
       "      <td>2790</td>\n",
       "      <td>15.6</td>\n",
       "      <td>82</td>\n",
       "      <td>1</td>\n",
       "      <td>ford mustang gl</td>\n",
       "    </tr>\n",
       "    <tr>\n",
       "      <th>394</th>\n",
       "      <td>44.0</td>\n",
       "      <td>4</td>\n",
       "      <td>97.0</td>\n",
       "      <td>52.0</td>\n",
       "      <td>2130</td>\n",
       "      <td>24.6</td>\n",
       "      <td>82</td>\n",
       "      <td>2</td>\n",
       "      <td>vw pickup</td>\n",
       "    </tr>\n",
       "    <tr>\n",
       "      <th>395</th>\n",
       "      <td>32.0</td>\n",
       "      <td>4</td>\n",
       "      <td>135.0</td>\n",
       "      <td>84.0</td>\n",
       "      <td>2295</td>\n",
       "      <td>11.6</td>\n",
       "      <td>82</td>\n",
       "      <td>1</td>\n",
       "      <td>dodge rampage</td>\n",
       "    </tr>\n",
       "    <tr>\n",
       "      <th>396</th>\n",
       "      <td>28.0</td>\n",
       "      <td>4</td>\n",
       "      <td>120.0</td>\n",
       "      <td>79.0</td>\n",
       "      <td>2625</td>\n",
       "      <td>18.6</td>\n",
       "      <td>82</td>\n",
       "      <td>1</td>\n",
       "      <td>ford ranger</td>\n",
       "    </tr>\n",
       "    <tr>\n",
       "      <th>397</th>\n",
       "      <td>31.0</td>\n",
       "      <td>4</td>\n",
       "      <td>119.0</td>\n",
       "      <td>82.0</td>\n",
       "      <td>2720</td>\n",
       "      <td>19.4</td>\n",
       "      <td>82</td>\n",
       "      <td>1</td>\n",
       "      <td>chevy s-10</td>\n",
       "    </tr>\n",
       "  </tbody>\n",
       "</table>\n",
       "</div>"
      ],
      "text/plain": [
       "      mpg  cylinders  displacement  horsepower  weight  acceleration  \\\n",
       "393  27.0          4         140.0        86.0    2790          15.6   \n",
       "394  44.0          4          97.0        52.0    2130          24.6   \n",
       "395  32.0          4         135.0        84.0    2295          11.6   \n",
       "396  28.0          4         120.0        79.0    2625          18.6   \n",
       "397  31.0          4         119.0        82.0    2720          19.4   \n",
       "\n",
       "     model year  origin         car name  \n",
       "393          82       1  ford mustang gl  \n",
       "394          82       2        vw pickup  \n",
       "395          82       1    dodge rampage  \n",
       "396          82       1      ford ranger  \n",
       "397          82       1       chevy s-10  "
      ]
     },
     "execution_count": 7,
     "metadata": {},
     "output_type": "execute_result"
    }
   ],
   "source": [
    "dataset.tail()"
   ]
  },
  {
   "cell_type": "code",
   "execution_count": 8,
   "id": "38b75ed2-c8ee-4e8b-847f-35711380fbbb",
   "metadata": {},
   "outputs": [
    {
     "data": {
      "text/plain": [
       "mpg             0\n",
       "cylinders       0\n",
       "displacement    0\n",
       "horsepower      6\n",
       "weight          0\n",
       "acceleration    0\n",
       "model year      0\n",
       "origin          0\n",
       "car name        0\n",
       "dtype: int64"
      ]
     },
     "execution_count": 8,
     "metadata": {},
     "output_type": "execute_result"
    }
   ],
   "source": [
    "# Checking NAs\n",
    "dataset.isna().sum()"
   ]
  },
  {
   "cell_type": "code",
   "execution_count": 9,
   "id": "407c8a83-d76c-4d18-b666-7314332e29cc",
   "metadata": {},
   "outputs": [
    {
     "name": "stdout",
     "output_type": "stream",
     "text": [
      "(392, 9)\n"
     ]
    }
   ],
   "source": [
    "# Dropping those values\n",
    "dataset = dataset.dropna()\n",
    "print(dataset.shape)"
   ]
  },
  {
   "cell_type": "markdown",
   "id": "b3ed18ef-2d83-48af-8080-e5f27676867f",
   "metadata": {},
   "source": [
    "### Feature Engineering"
   ]
  },
  {
   "cell_type": "code",
   "execution_count": 10,
   "id": "3f792202-4a46-4b20-93ec-688d7fb0283a",
   "metadata": {},
   "outputs": [
    {
     "data": {
      "text/html": [
       "<div>\n",
       "<style scoped>\n",
       "    .dataframe tbody tr th:only-of-type {\n",
       "        vertical-align: middle;\n",
       "    }\n",
       "\n",
       "    .dataframe tbody tr th {\n",
       "        vertical-align: top;\n",
       "    }\n",
       "\n",
       "    .dataframe thead th {\n",
       "        text-align: right;\n",
       "    }\n",
       "</style>\n",
       "<table border=\"1\" class=\"dataframe\">\n",
       "  <thead>\n",
       "    <tr style=\"text-align: right;\">\n",
       "      <th></th>\n",
       "      <th>mpg</th>\n",
       "      <th>cylinders</th>\n",
       "      <th>displacement</th>\n",
       "      <th>horsepower</th>\n",
       "      <th>weight</th>\n",
       "      <th>acceleration</th>\n",
       "      <th>model year</th>\n",
       "      <th>Europe</th>\n",
       "      <th>Japan</th>\n",
       "      <th>USA</th>\n",
       "      <th>...</th>\n",
       "      <th>volvo 145e (sw)</th>\n",
       "      <th>volvo 244dl</th>\n",
       "      <th>volvo 245</th>\n",
       "      <th>volvo 264gl</th>\n",
       "      <th>volvo diesel</th>\n",
       "      <th>vw dasher (diesel)</th>\n",
       "      <th>vw pickup</th>\n",
       "      <th>vw rabbit</th>\n",
       "      <th>vw rabbit c (diesel)</th>\n",
       "      <th>vw rabbit custom</th>\n",
       "    </tr>\n",
       "  </thead>\n",
       "  <tbody>\n",
       "    <tr>\n",
       "      <th>393</th>\n",
       "      <td>27.0</td>\n",
       "      <td>4</td>\n",
       "      <td>140.0</td>\n",
       "      <td>86.0</td>\n",
       "      <td>2790</td>\n",
       "      <td>15.6</td>\n",
       "      <td>82</td>\n",
       "      <td>0</td>\n",
       "      <td>0</td>\n",
       "      <td>1</td>\n",
       "      <td>...</td>\n",
       "      <td>0</td>\n",
       "      <td>0</td>\n",
       "      <td>0</td>\n",
       "      <td>0</td>\n",
       "      <td>0</td>\n",
       "      <td>0</td>\n",
       "      <td>0</td>\n",
       "      <td>0</td>\n",
       "      <td>0</td>\n",
       "      <td>0</td>\n",
       "    </tr>\n",
       "    <tr>\n",
       "      <th>394</th>\n",
       "      <td>44.0</td>\n",
       "      <td>4</td>\n",
       "      <td>97.0</td>\n",
       "      <td>52.0</td>\n",
       "      <td>2130</td>\n",
       "      <td>24.6</td>\n",
       "      <td>82</td>\n",
       "      <td>1</td>\n",
       "      <td>0</td>\n",
       "      <td>0</td>\n",
       "      <td>...</td>\n",
       "      <td>0</td>\n",
       "      <td>0</td>\n",
       "      <td>0</td>\n",
       "      <td>0</td>\n",
       "      <td>0</td>\n",
       "      <td>0</td>\n",
       "      <td>1</td>\n",
       "      <td>0</td>\n",
       "      <td>0</td>\n",
       "      <td>0</td>\n",
       "    </tr>\n",
       "    <tr>\n",
       "      <th>395</th>\n",
       "      <td>32.0</td>\n",
       "      <td>4</td>\n",
       "      <td>135.0</td>\n",
       "      <td>84.0</td>\n",
       "      <td>2295</td>\n",
       "      <td>11.6</td>\n",
       "      <td>82</td>\n",
       "      <td>0</td>\n",
       "      <td>0</td>\n",
       "      <td>1</td>\n",
       "      <td>...</td>\n",
       "      <td>0</td>\n",
       "      <td>0</td>\n",
       "      <td>0</td>\n",
       "      <td>0</td>\n",
       "      <td>0</td>\n",
       "      <td>0</td>\n",
       "      <td>0</td>\n",
       "      <td>0</td>\n",
       "      <td>0</td>\n",
       "      <td>0</td>\n",
       "    </tr>\n",
       "    <tr>\n",
       "      <th>396</th>\n",
       "      <td>28.0</td>\n",
       "      <td>4</td>\n",
       "      <td>120.0</td>\n",
       "      <td>79.0</td>\n",
       "      <td>2625</td>\n",
       "      <td>18.6</td>\n",
       "      <td>82</td>\n",
       "      <td>0</td>\n",
       "      <td>0</td>\n",
       "      <td>1</td>\n",
       "      <td>...</td>\n",
       "      <td>0</td>\n",
       "      <td>0</td>\n",
       "      <td>0</td>\n",
       "      <td>0</td>\n",
       "      <td>0</td>\n",
       "      <td>0</td>\n",
       "      <td>0</td>\n",
       "      <td>0</td>\n",
       "      <td>0</td>\n",
       "      <td>0</td>\n",
       "    </tr>\n",
       "    <tr>\n",
       "      <th>397</th>\n",
       "      <td>31.0</td>\n",
       "      <td>4</td>\n",
       "      <td>119.0</td>\n",
       "      <td>82.0</td>\n",
       "      <td>2720</td>\n",
       "      <td>19.4</td>\n",
       "      <td>82</td>\n",
       "      <td>0</td>\n",
       "      <td>0</td>\n",
       "      <td>1</td>\n",
       "      <td>...</td>\n",
       "      <td>0</td>\n",
       "      <td>0</td>\n",
       "      <td>0</td>\n",
       "      <td>0</td>\n",
       "      <td>0</td>\n",
       "      <td>0</td>\n",
       "      <td>0</td>\n",
       "      <td>0</td>\n",
       "      <td>0</td>\n",
       "      <td>0</td>\n",
       "    </tr>\n",
       "  </tbody>\n",
       "</table>\n",
       "<p>5 rows × 311 columns</p>\n",
       "</div>"
      ],
      "text/plain": [
       "      mpg  cylinders  displacement  horsepower  weight  acceleration  \\\n",
       "393  27.0          4         140.0        86.0    2790          15.6   \n",
       "394  44.0          4          97.0        52.0    2130          24.6   \n",
       "395  32.0          4         135.0        84.0    2295          11.6   \n",
       "396  28.0          4         120.0        79.0    2625          18.6   \n",
       "397  31.0          4         119.0        82.0    2720          19.4   \n",
       "\n",
       "     model year  Europe  Japan  USA  ...  volvo 145e (sw)  volvo 244dl  \\\n",
       "393          82       0      0    1  ...                0            0   \n",
       "394          82       1      0    0  ...                0            0   \n",
       "395          82       0      0    1  ...                0            0   \n",
       "396          82       0      0    1  ...                0            0   \n",
       "397          82       0      0    1  ...                0            0   \n",
       "\n",
       "     volvo 245  volvo 264gl  volvo diesel  vw dasher (diesel)  vw pickup  \\\n",
       "393          0            0             0                   0          0   \n",
       "394          0            0             0                   0          1   \n",
       "395          0            0             0                   0          0   \n",
       "396          0            0             0                   0          0   \n",
       "397          0            0             0                   0          0   \n",
       "\n",
       "     vw rabbit  vw rabbit c (diesel)  vw rabbit custom  \n",
       "393          0                     0                 0  \n",
       "394          0                     0                 0  \n",
       "395          0                     0                 0  \n",
       "396          0                     0                 0  \n",
       "397          0                     0                 0  \n",
       "\n",
       "[5 rows x 311 columns]"
      ]
     },
     "execution_count": 10,
     "metadata": {},
     "output_type": "execute_result"
    }
   ],
   "source": [
    "# One-hot-encoding \n",
    "dataset['origin'] = dataset['origin'].map({1: 'USA', 2: 'Europe', 3: 'Japan'})\n",
    "dataset = pd.get_dummies(dataset, prefix='', prefix_sep='')\n",
    "dataset.tail()"
   ]
  },
  {
   "cell_type": "code",
   "execution_count": 11,
   "id": "1e696bbd-8ec7-4ef8-8dca-2b7bd5dbc4b4",
   "metadata": {},
   "outputs": [],
   "source": [
    "# Split data (X's)\n",
    "train_dataset = dataset.sample(frac=0.8,random_state=0)\n",
    "test_dataset = dataset.drop(train_dataset.index)"
   ]
  },
  {
   "cell_type": "code",
   "execution_count": 12,
   "id": "64ed2e66-aebd-44a7-bef1-ab82879a3ef1",
   "metadata": {},
   "outputs": [
    {
     "data": {
      "text/html": [
       "<div>\n",
       "<style scoped>\n",
       "    .dataframe tbody tr th:only-of-type {\n",
       "        vertical-align: middle;\n",
       "    }\n",
       "\n",
       "    .dataframe tbody tr th {\n",
       "        vertical-align: top;\n",
       "    }\n",
       "\n",
       "    .dataframe thead th {\n",
       "        text-align: right;\n",
       "    }\n",
       "</style>\n",
       "<table border=\"1\" class=\"dataframe\">\n",
       "  <thead>\n",
       "    <tr style=\"text-align: right;\">\n",
       "      <th></th>\n",
       "      <th>count</th>\n",
       "      <th>mean</th>\n",
       "      <th>std</th>\n",
       "      <th>min</th>\n",
       "      <th>25%</th>\n",
       "      <th>50%</th>\n",
       "      <th>75%</th>\n",
       "      <th>max</th>\n",
       "    </tr>\n",
       "  </thead>\n",
       "  <tbody>\n",
       "    <tr>\n",
       "      <th>cylinders</th>\n",
       "      <td>314.0</td>\n",
       "      <td>5.477707</td>\n",
       "      <td>1.699788</td>\n",
       "      <td>3.0</td>\n",
       "      <td>4.00</td>\n",
       "      <td>4.0</td>\n",
       "      <td>8.00</td>\n",
       "      <td>8.0</td>\n",
       "    </tr>\n",
       "    <tr>\n",
       "      <th>displacement</th>\n",
       "      <td>314.0</td>\n",
       "      <td>195.318471</td>\n",
       "      <td>104.331589</td>\n",
       "      <td>68.0</td>\n",
       "      <td>105.50</td>\n",
       "      <td>151.0</td>\n",
       "      <td>265.75</td>\n",
       "      <td>455.0</td>\n",
       "    </tr>\n",
       "    <tr>\n",
       "      <th>horsepower</th>\n",
       "      <td>314.0</td>\n",
       "      <td>104.869427</td>\n",
       "      <td>38.096214</td>\n",
       "      <td>46.0</td>\n",
       "      <td>76.25</td>\n",
       "      <td>94.5</td>\n",
       "      <td>128.00</td>\n",
       "      <td>225.0</td>\n",
       "    </tr>\n",
       "    <tr>\n",
       "      <th>weight</th>\n",
       "      <td>314.0</td>\n",
       "      <td>2990.251592</td>\n",
       "      <td>843.898596</td>\n",
       "      <td>1649.0</td>\n",
       "      <td>2256.50</td>\n",
       "      <td>2822.5</td>\n",
       "      <td>3608.00</td>\n",
       "      <td>5140.0</td>\n",
       "    </tr>\n",
       "    <tr>\n",
       "      <th>acceleration</th>\n",
       "      <td>314.0</td>\n",
       "      <td>15.559236</td>\n",
       "      <td>2.789230</td>\n",
       "      <td>8.0</td>\n",
       "      <td>13.80</td>\n",
       "      <td>15.5</td>\n",
       "      <td>17.20</td>\n",
       "      <td>24.8</td>\n",
       "    </tr>\n",
       "    <tr>\n",
       "      <th>...</th>\n",
       "      <td>...</td>\n",
       "      <td>...</td>\n",
       "      <td>...</td>\n",
       "      <td>...</td>\n",
       "      <td>...</td>\n",
       "      <td>...</td>\n",
       "      <td>...</td>\n",
       "      <td>...</td>\n",
       "    </tr>\n",
       "    <tr>\n",
       "      <th>vw dasher (diesel)</th>\n",
       "      <td>314.0</td>\n",
       "      <td>0.003185</td>\n",
       "      <td>0.056433</td>\n",
       "      <td>0.0</td>\n",
       "      <td>0.00</td>\n",
       "      <td>0.0</td>\n",
       "      <td>0.00</td>\n",
       "      <td>1.0</td>\n",
       "    </tr>\n",
       "    <tr>\n",
       "      <th>vw pickup</th>\n",
       "      <td>314.0</td>\n",
       "      <td>0.003185</td>\n",
       "      <td>0.056433</td>\n",
       "      <td>0.0</td>\n",
       "      <td>0.00</td>\n",
       "      <td>0.0</td>\n",
       "      <td>0.00</td>\n",
       "      <td>1.0</td>\n",
       "    </tr>\n",
       "    <tr>\n",
       "      <th>vw rabbit</th>\n",
       "      <td>314.0</td>\n",
       "      <td>0.003185</td>\n",
       "      <td>0.056433</td>\n",
       "      <td>0.0</td>\n",
       "      <td>0.00</td>\n",
       "      <td>0.0</td>\n",
       "      <td>0.00</td>\n",
       "      <td>1.0</td>\n",
       "    </tr>\n",
       "    <tr>\n",
       "      <th>vw rabbit c (diesel)</th>\n",
       "      <td>314.0</td>\n",
       "      <td>0.000000</td>\n",
       "      <td>0.000000</td>\n",
       "      <td>0.0</td>\n",
       "      <td>0.00</td>\n",
       "      <td>0.0</td>\n",
       "      <td>0.00</td>\n",
       "      <td>0.0</td>\n",
       "    </tr>\n",
       "    <tr>\n",
       "      <th>vw rabbit custom</th>\n",
       "      <td>314.0</td>\n",
       "      <td>0.000000</td>\n",
       "      <td>0.000000</td>\n",
       "      <td>0.0</td>\n",
       "      <td>0.00</td>\n",
       "      <td>0.0</td>\n",
       "      <td>0.00</td>\n",
       "      <td>0.0</td>\n",
       "    </tr>\n",
       "  </tbody>\n",
       "</table>\n",
       "<p>310 rows × 8 columns</p>\n",
       "</div>"
      ],
      "text/plain": [
       "                      count         mean         std     min      25%     50%  \\\n",
       "cylinders             314.0     5.477707    1.699788     3.0     4.00     4.0   \n",
       "displacement          314.0   195.318471  104.331589    68.0   105.50   151.0   \n",
       "horsepower            314.0   104.869427   38.096214    46.0    76.25    94.5   \n",
       "weight                314.0  2990.251592  843.898596  1649.0  2256.50  2822.5   \n",
       "acceleration          314.0    15.559236    2.789230     8.0    13.80    15.5   \n",
       "...                     ...          ...         ...     ...      ...     ...   \n",
       "vw dasher (diesel)    314.0     0.003185    0.056433     0.0     0.00     0.0   \n",
       "vw pickup             314.0     0.003185    0.056433     0.0     0.00     0.0   \n",
       "vw rabbit             314.0     0.003185    0.056433     0.0     0.00     0.0   \n",
       "vw rabbit c (diesel)  314.0     0.000000    0.000000     0.0     0.00     0.0   \n",
       "vw rabbit custom      314.0     0.000000    0.000000     0.0     0.00     0.0   \n",
       "\n",
       "                          75%     max  \n",
       "cylinders                8.00     8.0  \n",
       "displacement           265.75   455.0  \n",
       "horsepower             128.00   225.0  \n",
       "weight                3608.00  5140.0  \n",
       "acceleration            17.20    24.8  \n",
       "...                       ...     ...  \n",
       "vw dasher (diesel)       0.00     1.0  \n",
       "vw pickup                0.00     1.0  \n",
       "vw rabbit                0.00     1.0  \n",
       "vw rabbit c (diesel)     0.00     0.0  \n",
       "vw rabbit custom         0.00     0.0  \n",
       "\n",
       "[310 rows x 8 columns]"
      ]
     },
     "execution_count": 12,
     "metadata": {},
     "output_type": "execute_result"
    }
   ],
   "source": [
    "# Calculate statistics for normalization\n",
    "train_stats = train_dataset.describe()\n",
    "train_stats.pop(\"mpg\")\n",
    "train_stats = train_stats.transpose()\n",
    "train_stats"
   ]
  },
  {
   "cell_type": "code",
   "execution_count": 13,
   "id": "779d16ee-5d40-474d-a890-5d73cf95dafe",
   "metadata": {},
   "outputs": [],
   "source": [
    "# Getting labels (Y's)\n",
    "train_labels = train_dataset.pop('mpg')\n",
    "test_labels = test_dataset.pop('mpg')"
   ]
  },
  {
   "cell_type": "code",
   "execution_count": 14,
   "id": "945a6827-fed5-4b17-bb35-a1f4470fccb3",
   "metadata": {},
   "outputs": [],
   "source": [
    "# Normalizing dataset\n",
    "def norm(x):\n",
    "  return (x - train_stats['mean']) / train_stats['std']\n",
    "\n",
    "normed_train_data = norm(train_dataset)\n",
    "normed_test_data = norm(test_dataset)"
   ]
  },
  {
   "cell_type": "markdown",
   "id": "ab26e6b2-14b0-44c4-a43d-cb71fa3f49db",
   "metadata": {},
   "source": [
    "### About feature engineering and data leakeage\n",
    "The statistics used to normalize the inputs here (mean and standard deviation) need to be applied to any other data that is fed to the model, along with the one-hot encoding that we did earlier.  That includes the test set as well as live data when the model is used in production.\n"
   ]
  },
  {
   "cell_type": "markdown",
   "id": "47efed35-39aa-41d5-9ca0-6434b0156abf",
   "metadata": {},
   "source": [
    "# Training a model\n",
    "\n",
    "Let's build our model. Here, we'll use a `Sequential` model with two densely connected hidden layers, and an output layer that returns a single, continuous value. The model building steps are wrapped in a function, `build_model`, since we'll create a second model, later on."
   ]
  },
  {
   "cell_type": "code",
   "execution_count": 15,
   "id": "0ad2e243-80fb-4d84-809c-d947a52fb708",
   "metadata": {},
   "outputs": [],
   "source": [
    "def build_model():\n",
    "  model = keras.Sequential([\n",
    "    layers.Dense(64, activation='relu', input_shape=[len(train_dataset.keys())]),\n",
    "    layers.Dense(64, activation='relu'),\n",
    "    layers.Dense(1)\n",
    "  ])\n",
    "\n",
    "  optimizer = tf.keras.optimizers.RMSprop(0.001)\n",
    "\n",
    "  model.compile(loss='mse', optimizer=optimizer, metrics=['mae', 'mse'])\n",
    "  return model"
   ]
  },
  {
   "cell_type": "code",
   "execution_count": 16,
   "id": "8548971a-2501-4371-bf92-d15c90f3044c",
   "metadata": {},
   "outputs": [
    {
     "name": "stdout",
     "output_type": "stream",
     "text": [
      "Model: \"sequential\"\n",
      "_________________________________________________________________\n",
      " Layer (type)                Output Shape              Param #   \n",
      "=================================================================\n",
      " dense (Dense)               (None, 64)                19904     \n",
      "                                                                 \n",
      " dense_1 (Dense)             (None, 64)                4160      \n",
      "                                                                 \n",
      " dense_2 (Dense)             (None, 1)                 65        \n",
      "                                                                 \n",
      "=================================================================\n",
      "Total params: 24,129\n",
      "Trainable params: 24,129\n",
      "Non-trainable params: 0\n",
      "_________________________________________________________________\n"
     ]
    },
    {
     "name": "stderr",
     "output_type": "stream",
     "text": [
      "2022-03-24 18:17:31.229179: W tensorflow/stream_executor/platform/default/dso_loader.cc:64] Could not load dynamic library 'libcuda.so.1'; dlerror: libcuda.so.1: cannot open shared object file: No such file or directory; LD_LIBRARY_PATH: /usr/local/cuda/lib64:/usr/local/cuda/lib:/usr/local/lib/x86_64-linux-gnu:/usr/local/nvidia/lib:/usr/local/nvidia/lib64:/usr/local/nvidia/lib:/usr/local/nvidia/lib64\n",
      "2022-03-24 18:17:31.229242: W tensorflow/stream_executor/cuda/cuda_driver.cc:269] failed call to cuInit: UNKNOWN ERROR (303)\n",
      "2022-03-24 18:17:31.229271: I tensorflow/stream_executor/cuda/cuda_diagnostics.cc:156] kernel driver does not appear to be running on this host (vm-1a1132b4-6adb-45c9-b1ce-76bd1b8b9bc5): /proc/driver/nvidia/version does not exist\n",
      "2022-03-24 18:17:31.229579: I tensorflow/core/platform/cpu_feature_guard.cc:151] This TensorFlow binary is optimized with oneAPI Deep Neural Network Library (oneDNN) to use the following CPU instructions in performance-critical operations:  AVX2 FMA\n",
      "To enable them in other operations, rebuild TensorFlow with the appropriate compiler flags.\n"
     ]
    }
   ],
   "source": [
    "# Instantiating the model\n",
    "model = build_model()\n",
    "model.summary()"
   ]
  },
  {
   "cell_type": "code",
   "execution_count": 17,
   "id": "327ce390-d283-49ba-bc68-c74bc7a7dccf",
   "metadata": {},
   "outputs": [
    {
     "name": "stdout",
     "output_type": "stream",
     "text": [
      "Epoch 1/1000\n",
      "8/8 [==============================] - 1s 35ms/step - loss: nan - mae: nan - mse: nan - val_loss: nan - val_mae: nan - val_mse: nan\n",
      "Epoch 2/1000\n",
      "8/8 [==============================] - 0s 10ms/step - loss: nan - mae: nan - mse: nan - val_loss: nan - val_mae: nan - val_mse: nan\n",
      "Epoch 3/1000\n",
      "8/8 [==============================] - 0s 11ms/step - loss: nan - mae: nan - mse: nan - val_loss: nan - val_mae: nan - val_mse: nan\n",
      "Epoch 4/1000\n",
      "8/8 [==============================] - 0s 10ms/step - loss: nan - mae: nan - mse: nan - val_loss: nan - val_mae: nan - val_mse: nan\n",
      "Epoch 5/1000\n",
      "8/8 [==============================] - 0s 11ms/step - loss: nan - mae: nan - mse: nan - val_loss: nan - val_mae: nan - val_mse: nan\n",
      "Epoch 6/1000\n",
      "8/8 [==============================] - 0s 10ms/step - loss: nan - mae: nan - mse: nan - val_loss: nan - val_mae: nan - val_mse: nan\n",
      "Epoch 7/1000\n",
      "8/8 [==============================] - 0s 9ms/step - loss: nan - mae: nan - mse: nan - val_loss: nan - val_mae: nan - val_mse: nan\n",
      "Epoch 8/1000\n",
      "8/8 [==============================] - 0s 10ms/step - loss: nan - mae: nan - mse: nan - val_loss: nan - val_mae: nan - val_mse: nan\n",
      "Epoch 9/1000\n",
      "8/8 [==============================] - 0s 10ms/step - loss: nan - mae: nan - mse: nan - val_loss: nan - val_mae: nan - val_mse: nan\n",
      "Epoch 10/1000\n",
      "8/8 [==============================] - 0s 10ms/step - loss: nan - mae: nan - mse: nan - val_loss: nan - val_mae: nan - val_mse: nan\n"
     ]
    }
   ],
   "source": [
    "EPOCHS = 1000\n",
    "\n",
    "# The patience parameter is the amount of epochs to check for improvement\n",
    "early_stop = keras.callbacks.EarlyStopping(monitor='val_loss', patience=10)\n",
    "\n",
    "early_history = model.fit(normed_train_data, train_labels, \n",
    "                    epochs=EPOCHS, validation_split = 0.2, \n",
    "                    callbacks=[early_stop])"
   ]
  },
  {
   "cell_type": "code",
   "execution_count": 18,
   "id": "fb2d7292-3347-4bf4-b328-d570622c704f",
   "metadata": {},
   "outputs": [
    {
     "name": "stderr",
     "output_type": "stream",
     "text": [
      "2022-03-24 18:17:33.719862: W tensorflow/python/util/util.cc:368] Sets are not currently considered sequences, but this may change in the future, so consider avoiding using them.\n"
     ]
    },
    {
     "name": "stdout",
     "output_type": "stream",
     "text": [
      "INFO:tensorflow:Assets written to: gs://itam-dpa-2022-model2/mpg/model/assets\n"
     ]
    }
   ],
   "source": [
    "# Export model and save to GCS\n",
    "model.save(BUCKET + '/mpg/model')"
   ]
  },
  {
   "cell_type": "markdown",
   "id": "4ad147fe-507d-477d-8fc1-209692388516",
   "metadata": {},
   "source": [
    "### Packaging everything in a Docker container"
   ]
  },
  {
   "cell_type": "code",
   "execution_count": 19,
   "id": "da939ba4-5653-47db-9f58-e5068101e61d",
   "metadata": {},
   "outputs": [
    {
     "name": "stdout",
     "output_type": "stream",
     "text": [
      "mkdir: cannot create directory ‘mpg’: File exists\n"
     ]
    }
   ],
   "source": [
    "# Creating some files\n",
    "!mkdir mpg && cd mpg && mkdir trainer"
   ]
  },
  {
   "cell_type": "code",
   "execution_count": 20,
   "id": "be25e5f5-a4e9-4eb9-b264-d6d9a401b8df",
   "metadata": {},
   "outputs": [
    {
     "name": "stdout",
     "output_type": "stream",
     "text": [
      "Overwriting /home/jupyter/model2/mpg/Dockerfile\n"
     ]
    }
   ],
   "source": [
    "%%writefile /home/jupyter/model2/mpg/Dockerfile\n",
    "FROM gcr.io/deeplearning-platform-release/tf2-cpu.2-3\n",
    "WORKDIR /\n",
    "\n",
    "# Copies the trainer code to the docker image.\n",
    "COPY trainer /trainer\n",
    "\n",
    "# Sets up the entry point to invoke the trainer.\n",
    "ENTRYPOINT [\"python\", \"-m\", \"trainer.train\"]"
   ]
  },
  {
   "cell_type": "code",
   "execution_count": 21,
   "id": "110cc693-4b18-4bb1-ae25-401e6d1cdba5",
   "metadata": {},
   "outputs": [
    {
     "name": "stdout",
     "output_type": "stream",
     "text": [
      "Overwriting /home/jupyter/model2/mpg/trainer/train.py\n"
     ]
    }
   ],
   "source": [
    "%%writefile /home/jupyter/model2/mpg/trainer/train.py\n",
    "# Training script\n",
    "BUCKET = \"gs://itam-dpa-2022-model2\"\n",
    "\n",
    "import numpy as np\n",
    "import pandas as pd\n",
    "import pathlib\n",
    "import tensorflow as tf\n",
    "\n",
    "from tensorflow import keras\n",
    "from tensorflow.keras import layers\n",
    "\n",
    "print(tf.__version__)\n",
    "\n",
    "#importing data\n",
    "dataset_path = \"https://storage.googleapis.com/io-vertex-codelab/auto-mpg.csv\"\n",
    "dataset = pd.read_csv(dataset_path, na_values = \"?\")\n",
    "dataset.tail()\n",
    "\n",
    "#checking na's\n",
    "dataset.isna().sum()\n",
    "\n",
    "#dropping na's\n",
    "dataset = dataset.dropna()\n",
    "\n",
    "#feature engineering\n",
    "dataset['origin'] = dataset['origin'].map({1: 'USA', 2: 'Europe', 3: 'Japan'})\n",
    "dataset = pd.get_dummies(dataset, prefix='', prefix_sep='')\n",
    "dataset.tail()\n",
    "\n",
    "#spliting data\n",
    "train_dataset = dataset.sample(frac=0.8,random_state=0)\n",
    "test_dataset = dataset.drop(train_dataset.index)\n",
    "\n",
    "#calculating statistics for normalization\n",
    "train_stats = train_dataset.describe()\n",
    "train_stats.pop(\"mpg\")\n",
    "train_stats = train_stats.transpose()\n",
    "train_stats\n",
    "\n",
    "#getting labels\n",
    "train_labels = train_dataset.pop('mpg')\n",
    "test_labels = test_dataset.pop('mpg')\n",
    "\n",
    "#normalize data\n",
    "def norm(x):\n",
    "  return (x - train_stats['mean']) / train_stats['std']\n",
    "normed_train_data = norm(train_dataset)\n",
    "normed_test_data = norm(test_dataset)\n",
    "\n",
    "\n",
    "#build the model \n",
    "def build_model():\n",
    "  model = keras.Sequential([\n",
    "    layers.Dense(64, activation='relu', input_shape=[len(train_dataset.keys())]),\n",
    "    layers.Dense(64, activation='relu'),\n",
    "    layers.Dense(1)\n",
    "  ])\n",
    "\n",
    "  optimizer = tf.keras.optimizers.RMSprop(0.001)\n",
    "\n",
    "  model.compile(loss='mse', optimizer=optimizer, metrics=['mae', 'mse'])\n",
    "  return model\n",
    "\n",
    "model = build_model()\n",
    "model.summary()\n",
    "\n",
    "EPOCHS = 1000\n",
    "early_stop = keras.callbacks.EarlyStopping(monitor='val_loss', patience=10)\n",
    "early_history = model.fit(normed_train_data, train_labels, epochs=EPOCHS, validation_split = 0.2, callbacks=[early_stop])\n",
    "\n",
    "# Export model and save to GCS\n",
    "model.save(BUCKET + '/mpg/model')"
   ]
  },
  {
   "cell_type": "markdown",
   "id": "6c4360a3-48c2-40f6-8ba1-62533a0cbc33",
   "metadata": {},
   "source": [
    "# ML Engineer Work: who is responsible for the next part?\n",
    "In an organization, it's common to have one team or individual in charge of building the model, and a different team in charge of deploying it. The steps we'll go through here will show you how to take a model that's already been trained and deploy it for prediction."
   ]
  },
  {
   "cell_type": "markdown",
   "id": "a5d72cf1-1ed2-4017-8932-16eefcc2f409",
   "metadata": {},
   "source": [
    "### Building the Docker image and saving into the Container Registry "
   ]
  },
  {
   "cell_type": "markdown",
   "id": "71bc20c2-a74c-43cc-a87d-d2432b28e89e",
   "metadata": {},
   "source": [
    "**Note**: \n",
    "1) You have to enable manually the Cloud Build API in https://console.cloud.google.com/marketplace/product/google/cloudbuild.googleapis.com\n",
    "2) You have to enable service account permissions in https://console.cloud.google.com/cloud-build/settings/service-account?project=itam-dpa-2022"
   ]
  },
  {
   "cell_type": "code",
   "execution_count": 22,
   "id": "2515679e-2b39-4b14-8ab9-0d9e538e1eb1",
   "metadata": {},
   "outputs": [
    {
     "name": "stdout",
     "output_type": "stream",
     "text": [
      "Creating temporary tarball archive of 4 file(s) totalling 4.0 KiB before compression.\n",
      "Uploading tarball of [./mpg/] to [gs://itam-dpa-2022_cloudbuild/source/1648145861.183442-09061e6e88a4404a9f9fa7643cfd7569.tgz]\n",
      "Created [https://cloudbuild.googleapis.com/v1/projects/itam-dpa-2022/locations/global/builds/fa9cb411-0fcb-4b70-870a-6bebba4beaed].\n",
      "Logs are available at [https://console.cloud.google.com/cloud-build/builds/fa9cb411-0fcb-4b70-870a-6bebba4beaed?project=171673689672].\n",
      "----------------------------- REMOTE BUILD OUTPUT ------------------------------\n",
      "starting build \"fa9cb411-0fcb-4b70-870a-6bebba4beaed\"\n",
      "\n",
      "FETCHSOURCE\n",
      "Fetching storage object: gs://itam-dpa-2022_cloudbuild/source/1648145861.183442-09061e6e88a4404a9f9fa7643cfd7569.tgz#1648145861390129\n",
      "Copying gs://itam-dpa-2022_cloudbuild/source/1648145861.183442-09061e6e88a4404a9f9fa7643cfd7569.tgz#1648145861390129...\n",
      "/ [1 files][  1.6 KiB/  1.6 KiB]                                                \n",
      "Operation completed over 1 objects/1.6 KiB.\n",
      "BUILD\n",
      "Already have image (with digest): gcr.io/cloud-builders/docker\n",
      "Sending build context to Docker daemon  9.728kB\n",
      "Step 1/4 : FROM gcr.io/deeplearning-platform-release/tf2-cpu.2-3\n",
      "latest: Pulling from deeplearning-platform-release/tf2-cpu.2-3\n",
      "7c3b88808835: Already exists\n",
      "382fcf64a9ea: Pulling fs layer\n",
      "d764c2aa40d3: Pulling fs layer\n",
      "90cc2e264020: Pulling fs layer\n",
      "4f4fb700ef54: Pulling fs layer\n",
      "395e65f0ab42: Pulling fs layer\n",
      "9e19ad4dbd7d: Pulling fs layer\n",
      "957c609522d8: Pulling fs layer\n",
      "6a5e2168e631: Pulling fs layer\n",
      "5740bb01bc78: Pulling fs layer\n",
      "be09da654f5c: Pulling fs layer\n",
      "288d40a4f176: Pulling fs layer\n",
      "e2d3eec75c0c: Pulling fs layer\n",
      "3769728eb7d7: Pulling fs layer\n",
      "211e30f752a4: Pulling fs layer\n",
      "ae6a5f7af5b1: Pulling fs layer\n",
      "ffe1873bc2e0: Pulling fs layer\n",
      "a3bf3aa6e8c6: Pulling fs layer\n",
      "6b6a62bdf93d: Pulling fs layer\n",
      "a6fec16c39f2: Pulling fs layer\n",
      "4f4fb700ef54: Waiting\n",
      "395e65f0ab42: Waiting\n",
      "9e19ad4dbd7d: Waiting\n",
      "957c609522d8: Waiting\n",
      "6a5e2168e631: Waiting\n",
      "5740bb01bc78: Waiting\n",
      "be09da654f5c: Waiting\n",
      "288d40a4f176: Waiting\n",
      "e2d3eec75c0c: Waiting\n",
      "3769728eb7d7: Waiting\n",
      "211e30f752a4: Waiting\n",
      "ae6a5f7af5b1: Waiting\n",
      "ffe1873bc2e0: Waiting\n",
      "a3bf3aa6e8c6: Waiting\n",
      "6b6a62bdf93d: Waiting\n",
      "a6fec16c39f2: Waiting\n",
      "382fcf64a9ea: Verifying Checksum\n",
      "382fcf64a9ea: Download complete\n",
      "382fcf64a9ea: Pull complete\n",
      "4f4fb700ef54: Verifying Checksum\n",
      "4f4fb700ef54: Download complete\n",
      "395e65f0ab42: Verifying Checksum\n",
      "395e65f0ab42: Download complete\n",
      "9e19ad4dbd7d: Download complete\n",
      "90cc2e264020: Verifying Checksum\n",
      "90cc2e264020: Download complete\n",
      "6a5e2168e631: Verifying Checksum\n",
      "6a5e2168e631: Download complete\n",
      "957c609522d8: Verifying Checksum\n",
      "957c609522d8: Download complete\n",
      "be09da654f5c: Verifying Checksum\n",
      "be09da654f5c: Download complete\n",
      "5740bb01bc78: Verifying Checksum\n",
      "5740bb01bc78: Download complete\n",
      "288d40a4f176: Verifying Checksum\n",
      "288d40a4f176: Download complete\n",
      "e2d3eec75c0c: Verifying Checksum\n",
      "e2d3eec75c0c: Download complete\n",
      "3769728eb7d7: Verifying Checksum\n",
      "3769728eb7d7: Download complete\n",
      "211e30f752a4: Verifying Checksum\n",
      "211e30f752a4: Download complete\n",
      "ae6a5f7af5b1: Verifying Checksum\n",
      "ae6a5f7af5b1: Download complete\n",
      "d764c2aa40d3: Verifying Checksum\n",
      "d764c2aa40d3: Download complete\n",
      "a3bf3aa6e8c6: Verifying Checksum\n",
      "a3bf3aa6e8c6: Download complete\n",
      "6b6a62bdf93d: Verifying Checksum\n",
      "6b6a62bdf93d: Download complete\n",
      "a6fec16c39f2: Verifying Checksum\n",
      "a6fec16c39f2: Download complete\n",
      "ffe1873bc2e0: Verifying Checksum\n",
      "ffe1873bc2e0: Download complete\n",
      "d764c2aa40d3: Pull complete\n",
      "90cc2e264020: Pull complete\n",
      "4f4fb700ef54: Pull complete\n",
      "395e65f0ab42: Pull complete\n",
      "9e19ad4dbd7d: Pull complete\n",
      "957c609522d8: Pull complete\n",
      "6a5e2168e631: Pull complete\n",
      "5740bb01bc78: Pull complete\n",
      "be09da654f5c: Pull complete\n",
      "288d40a4f176: Pull complete\n",
      "e2d3eec75c0c: Pull complete\n",
      "3769728eb7d7: Pull complete\n",
      "211e30f752a4: Pull complete\n",
      "ae6a5f7af5b1: Pull complete\n",
      "ffe1873bc2e0: Pull complete\n",
      "a3bf3aa6e8c6: Pull complete\n",
      "6b6a62bdf93d: Pull complete\n",
      "a6fec16c39f2: Pull complete\n",
      "Digest: sha256:d61c159bd998f00f57867e1c715177fb9ebb96e130cf60c9017a8b6dba782c46\n",
      "Status: Downloaded newer image for gcr.io/deeplearning-platform-release/tf2-cpu.2-3:latest\n",
      " ---> 1fdfb6e767fe\n",
      "Step 2/4 : WORKDIR /\n",
      " ---> Running in c14ae8558f1f\n",
      "Removing intermediate container c14ae8558f1f\n",
      " ---> 8956aab6cf26\n",
      "Step 3/4 : COPY trainer /trainer\n",
      " ---> 9614269f0b92\n",
      "Step 4/4 : ENTRYPOINT [\"python\", \"-m\", \"trainer.train\"]\n",
      " ---> Running in cba2c559e0ec\n",
      "Removing intermediate container cba2c559e0ec\n",
      " ---> 4f894d16e8f4\n",
      "Successfully built 4f894d16e8f4\n",
      "Successfully tagged gcr.io/itam-dpa-2022/mpg:v3\n",
      "PUSH\n",
      "Pushing gcr.io/itam-dpa-2022/mpg:v3\n",
      "The push refers to repository [gcr.io/itam-dpa-2022/mpg]\n",
      "fc7cc5f9acd0: Preparing\n",
      "555fdf428d24: Preparing\n",
      "ab1c7aa87923: Preparing\n",
      "3db6af295f89: Preparing\n",
      "7d3391940b32: Preparing\n",
      "b3ab95a574c8: Preparing\n",
      "d1b010151b48: Preparing\n",
      "b80bc089358e: Preparing\n",
      "11bc9b36546a: Preparing\n",
      "43d282ce8d0b: Preparing\n",
      "69fd467ac3a5: Preparing\n",
      "ed4291c31559: Preparing\n",
      "4bf5ae11254c: Preparing\n",
      "0d592bcbe281: Preparing\n",
      "770c4c112e39: Preparing\n",
      "1874048fd290: Preparing\n",
      "5f70bf18a086: Preparing\n",
      "7e897a45d8d8: Preparing\n",
      "42826651fb01: Preparing\n",
      "4236d5cafaa0: Preparing\n",
      "68a85fa9d77e: Preparing\n",
      "b3ab95a574c8: Waiting\n",
      "d1b010151b48: Waiting\n",
      "b80bc089358e: Waiting\n",
      "11bc9b36546a: Waiting\n",
      "43d282ce8d0b: Waiting\n",
      "69fd467ac3a5: Waiting\n",
      "ed4291c31559: Waiting\n",
      "4bf5ae11254c: Waiting\n",
      "0d592bcbe281: Waiting\n",
      "770c4c112e39: Waiting\n",
      "1874048fd290: Waiting\n",
      "5f70bf18a086: Waiting\n",
      "7e897a45d8d8: Waiting\n",
      "42826651fb01: Waiting\n",
      "4236d5cafaa0: Waiting\n",
      "68a85fa9d77e: Waiting\n",
      "7d3391940b32: Layer already exists\n",
      "3db6af295f89: Layer already exists\n",
      "ab1c7aa87923: Layer already exists\n",
      "555fdf428d24: Layer already exists\n",
      "b3ab95a574c8: Layer already exists\n",
      "d1b010151b48: Layer already exists\n",
      "11bc9b36546a: Layer already exists\n",
      "b80bc089358e: Layer already exists\n",
      "43d282ce8d0b: Layer already exists\n",
      "69fd467ac3a5: Layer already exists\n",
      "ed4291c31559: Layer already exists\n",
      "4bf5ae11254c: Layer already exists\n",
      "0d592bcbe281: Layer already exists\n",
      "770c4c112e39: Layer already exists\n",
      "1874048fd290: Layer already exists\n",
      "5f70bf18a086: Layer already exists\n",
      "7e897a45d8d8: Layer already exists\n",
      "4236d5cafaa0: Layer already exists\n",
      "68a85fa9d77e: Layer already exists\n",
      "42826651fb01: Layer already exists\n",
      "fc7cc5f9acd0: Pushed\n",
      "v3: digest: sha256:2af4c481fc3fab4552a6ae2476d854eb3dd804a8a1a989380e268e62360268f6 size: 4713\n",
      "DONE\n",
      "--------------------------------------------------------------------------------\n",
      "ID                                    CREATE_TIME                DURATION  SOURCE                                                                                       IMAGES                       STATUS\n",
      "fa9cb411-0fcb-4b70-870a-6bebba4beaed  2022-03-24T18:17:41+00:00  1M50S     gs://itam-dpa-2022_cloudbuild/source/1648145861.183442-09061e6e88a4404a9f9fa7643cfd7569.tgz  gcr.io/itam-dpa-2022/mpg:v3  SUCCESS\n"
     ]
    }
   ],
   "source": [
    "# Submitting the a docler build job to Google Cloud Build --be carefull to point to the Dockerfile\n",
    "!gcloud builds submit --tag gcr.io/itam-dpa-2022/mpg:v3 ./mpg/"
   ]
  },
  {
   "cell_type": "markdown",
   "id": "151f7d49-c816-410e-9195-32cc1d5f5127",
   "metadata": {},
   "source": [
    "# Submit a training job in GCP using the UI\n",
    "\n",
    "https://console.cloud.google.com/vertex-ai/training/training-pipelines?project=itam-dpa-2022\n",
    "https://cloud.google.com/vertex-ai/docs/training/custom-training"
   ]
  },
  {
   "cell_type": "markdown",
   "id": "f1b499bd-7ead-46b4-9419-eab383555ac4",
   "metadata": {},
   "source": [
    "# Endpoint Deployment"
   ]
  },
  {
   "cell_type": "code",
   "execution_count": 27,
   "id": "94ae5062-a0d7-4a6d-abdb-80548eda302c",
   "metadata": {},
   "outputs": [
    {
     "name": "stdout",
     "output_type": "stream",
     "text": [
      "INFO:google.cloud.aiplatform.models:Creating Model\n",
      "INFO:google.cloud.aiplatform.models:Create Model backing LRO: projects/171673689672/locations/us-central1/models/7360874106192920576/operations/3422386690579234816\n",
      "INFO:google.cloud.aiplatform.models:Model created. Resource name: projects/171673689672/locations/us-central1/models/7360874106192920576\n",
      "INFO:google.cloud.aiplatform.models:To use this Model in another session:\n",
      "INFO:google.cloud.aiplatform.models:model = aiplatform.Model('projects/171673689672/locations/us-central1/models/7360874106192920576')\n",
      "INFO:google.cloud.aiplatform.models:Creating Endpoint\n",
      "INFO:google.cloud.aiplatform.models:Create Endpoint backing LRO: projects/171673689672/locations/us-central1/endpoints/8517898988194627584/operations/2144208821336145920\n",
      "INFO:google.cloud.aiplatform.models:Endpoint created. Resource name: projects/171673689672/locations/us-central1/endpoints/8517898988194627584\n",
      "INFO:google.cloud.aiplatform.models:To use this Endpoint in another session:\n",
      "INFO:google.cloud.aiplatform.models:endpoint = aiplatform.Endpoint('projects/171673689672/locations/us-central1/endpoints/8517898988194627584')\n",
      "INFO:google.cloud.aiplatform.models:Deploying model to Endpoint : projects/171673689672/locations/us-central1/endpoints/8517898988194627584\n",
      "INFO:google.cloud.aiplatform.models:Deploy Endpoint model backing LRO: projects/171673689672/locations/us-central1/endpoints/8517898988194627584/operations/2976530327469555712\n",
      "INFO:google.cloud.aiplatform.models:Endpoint model deployed. Resource name: projects/171673689672/locations/us-central1/endpoints/8517898988194627584\n"
     ]
    }
   ],
   "source": [
    "from google.cloud import aiplatform\n",
    "\n",
    "# Create a model resource from public model assets\n",
    "model = aiplatform.Model.upload(\n",
    "    display_name=\"itam_dpa_2022_mpg_regression\",\n",
    "    artifact_uri=\"gs://itam-dpa-2022-model2/mpg/model/\",\n",
    "    serving_container_image_uri=\"gcr.io/cloud-aiplatform/prediction/tf2-cpu.2-3:latest\"\n",
    ")\n",
    "\n",
    "# Deploy the above model to an endpoint\n",
    "endpoint = model.deploy(\n",
    "    machine_type=\"n1-standard-4\"\n",
    ")"
   ]
  },
  {
   "cell_type": "code",
   "execution_count": 28,
   "id": "a76aa42b-9cf9-424f-a694-d9b20a975fa8",
   "metadata": {},
   "outputs": [
    {
     "data": {
      "text/plain": [
       "<google.cloud.aiplatform.models.Model object at 0x7f3e1ec5c9d0> \n",
       "resource name: projects/171673689672/locations/us-central1/models/7360874106192920576"
      ]
     },
     "execution_count": 28,
     "metadata": {},
     "output_type": "execute_result"
    }
   ],
   "source": [
    "model"
   ]
  },
  {
   "cell_type": "markdown",
   "id": "85dada29-c489-4884-acac-203d3597d2d2",
   "metadata": {},
   "source": [
    "# Making a prediction from an End-point"
   ]
  },
  {
   "cell_type": "code",
   "execution_count": null,
   "id": "47811f51-ca4b-41bb-8d42-6c31e197650c",
   "metadata": {},
   "outputs": [],
   "source": [
    "from google.cloud import aiplatform\n",
    "\n",
    "endpoint = aiplatform.Endpoint(\n",
    "    endpoint_name=\"projects/171673689672/locations/us-central1/endpoints/8517898988194627584\"\n",
    ")\n",
    "\n",
    "# A test example we'll send to our model for prediction\n",
    "test_mpg = [1.4838871833555929,\n",
    " 1.8659883497083019,\n",
    " 2.234620276849616,\n",
    " 1.0187816540094903,\n",
    " -2.530890710602246,\n",
    " -1.6046416850441676,\n",
    " -0.4651483719733302,\n",
    " -0.4952254087173721,\n",
    " 0.7746763768735953]\n",
    "\n",
    "response = endpoint.predict([test_mpg])\n",
    "\n",
    "print('API response: ', response)\n",
    "\n",
    "print('Predicted MPG: ', response.predictions[0][0])"
   ]
  },
  {
   "cell_type": "markdown",
   "id": "877f8240-1721-4854-8980-3da452cc9e20",
   "metadata": {},
   "source": [
    "# Reference\n",
    "For more information visit:\n",
    "- [codelab](https://codelabs.developers.google.com/codelabs/vertex-ai-custom-models#0)\n",
    "- [video tutorial](https://youtu.be/aB2OxnyfP0c)\n",
    "\n",
    "Thanks Sarah Robinson"
   ]
  }
 ],
 "metadata": {
  "environment": {
   "kernel": "python3",
   "name": "managed-notebooks.m90",
   "type": "gcloud",
   "uri": "gcr.io/deeplearning-platform-release/tf2-gpu:latest"
  },
  "kernelspec": {
   "display_name": "TensorFlow 2 (Local)",
   "language": "python",
   "name": "local-tf2"
  },
  "language_info": {
   "codemirror_mode": {
    "name": "ipython",
    "version": 3
   },
   "file_extension": ".py",
   "mimetype": "text/x-python",
   "name": "python",
   "nbconvert_exporter": "python",
   "pygments_lexer": "ipython3",
   "version": "3.7.12"
  }
 },
 "nbformat": 4,
 "nbformat_minor": 5
}
