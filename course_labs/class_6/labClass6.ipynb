{
 "cells": [
  {
   "cell_type": "code",
   "execution_count": 1,
   "id": "df0e75a9-4486-405b-b1e9-6c2859c209e6",
   "metadata": {},
   "outputs": [],
   "source": [
    "import yaml"
   ]
  },
  {
   "cell_type": "code",
   "execution_count": 2,
   "id": "99425f04-e4a2-4064-a0b2-4444ce41846f",
   "metadata": {},
   "outputs": [],
   "source": [
    "config_path = open(\"labClass6.yaml\")\n",
    "config = yaml.safe_load(config_path)"
   ]
  },
  {
   "cell_type": "code",
   "execution_count": 4,
   "id": "f3969773-e32b-4221-a0a9-38f670424045",
   "metadata": {},
   "outputs": [],
   "source": [
    "weather_key = config['weather_key']\n",
    "bucket = config['bucket']\n",
    "cities = config['cities']"
   ]
  },
  {
   "cell_type": "code",
   "execution_count": 6,
   "id": "144e1a46-ad1d-4266-87ac-ac27f10e6ec1",
   "metadata": {},
   "outputs": [],
   "source": [
    "import requests\n",
    "from datetime import date, timedelta\n",
    "\n",
    "end = date.today()\n",
    "start = end - timedelta(7)\n",
    "dates = [str(start+timedelta(days=x)) for x in range((end-start).days)]\n",
    "base_url = 'http://api.weatherapi.com/v1/'\n",
    "history_api = 'history.json?' \n",
    "auth = f'key={weather_key}'"
   ]
  },
  {
   "cell_type": "code",
   "execution_count": 11,
   "id": "dd7a750a-38ed-4210-9243-e0318235c3d1",
   "metadata": {},
   "outputs": [],
   "source": [
    "data = []\n",
    "\n",
    "for city in cities:\n",
    "    for date in dates:\n",
    "        request_body = base_url + history_api + auth + f\"&q={city}&dt={date}\"\n",
    "        payload = requests.get(request_body).json()\n",
    "        payload['dt'] = date\n",
    "        payload['city'] = city\n",
    "        data.append(payload)"
   ]
  },
  {
   "cell_type": "code",
   "execution_count": 13,
   "id": "2ecf91dc-bff4-4e18-a933-c349859cf364",
   "metadata": {},
   "outputs": [],
   "source": [
    "from google.cloud import storage"
   ]
  },
  {
   "cell_type": "code",
   "execution_count": 14,
   "id": "57dc8f34-6efb-4702-be61-a06ed1489e7b",
   "metadata": {},
   "outputs": [],
   "source": [
    "client = storage.Client()"
   ]
  },
  {
   "cell_type": "code",
   "execution_count": 15,
   "id": "4b3b6bd1-7ccc-44c9-83e4-016ddf62f473",
   "metadata": {},
   "outputs": [],
   "source": [
    "gcs_bucket = client.get_bucket(bucket)"
   ]
  },
  {
   "cell_type": "code",
   "execution_count": 16,
   "id": "3163cce3-1870-4a61-9410-b89d33130476",
   "metadata": {},
   "outputs": [],
   "source": [
    "import json"
   ]
  },
  {
   "cell_type": "code",
   "execution_count": 18,
   "id": "2c05697e-2d4b-4b8d-b552-7903c798b627",
   "metadata": {},
   "outputs": [],
   "source": [
    "for row in data:\n",
    "    path = f\"weather/{row['dt']}/{row['city']}/forecast.json\"\n",
    "    blob = gcs_bucket.blob(path)\n",
    "    with blob.open(mode = 'w') as file:\n",
    "        json.dump(row, file)"
   ]
  }
 ],
 "metadata": {
  "environment": {
   "kernel": "python3",
   "name": "common-cpu.m90",
   "type": "gcloud",
   "uri": "gcr.io/deeplearning-platform-release/base-cpu:m90"
  },
  "kernelspec": {
   "display_name": "Python 3",
   "language": "python",
   "name": "python3"
  },
  "language_info": {
   "codemirror_mode": {
    "name": "ipython",
    "version": 3
   },
   "file_extension": ".py",
   "mimetype": "text/x-python",
   "name": "python",
   "nbconvert_exporter": "python",
   "pygments_lexer": "ipython3",
   "version": "3.7.12"
  }
 },
 "nbformat": 4,
 "nbformat_minor": 5
}
