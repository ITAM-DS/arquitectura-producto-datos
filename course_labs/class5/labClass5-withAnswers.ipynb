{
 "cells": [
  {
   "cell_type": "markdown",
   "id": "e69b4da0-f3cc-4462-8532-4cb5500cdc2d",
   "metadata": {},
   "source": [
    "# Class 5 Lab: Databases and ETL"
   ]
  },
  {
   "cell_type": "markdown",
   "id": "4b84570c-427d-4df7-b43e-e9a3006c16d0",
   "metadata": {},
   "source": [
    "## Objectives\n",
    "- Configure Google Cloud SQL Databases\n",
    "- Discover Database Security Options \n",
    "- Connect to a MySQL DB via Python\n",
    "- Generate UUIDs in Python\n",
    "- Normalize API request payload\n",
    "- Insert API request payloads into DB tables"
   ]
  },
  {
   "cell_type": "markdown",
   "id": "2e972236-3d67-48bf-b87d-108763a51af5",
   "metadata": {},
   "source": [
    "## Requirements\n",
    "In order to follow along, the following will need to be installed:\n",
    "\n",
    "- Python libraries:\n",
    "  - notebook\n",
    "  - [jupyterlab](https://jupyter.org/install)\n",
    "  - pyyaml\n",
    "  - [mysql](https://dev.mysql.com/doc/connector-python/en/connector-python-installation-binary.html)\n",
    "\n",
    "We will also be using the [WeatherAPI](https://www.weatherapi.com/). While not required, it is recommended to sign up for a free account to acquire an API Key and follow along with the lab."
   ]
  },
  {
   "cell_type": "markdown",
   "id": "26162c1a-6803-44ca-bfea-ed1955124e10",
   "metadata": {},
   "source": [
    "## Lab\n",
    "\n",
    "In this lab, we will write an ETL script that extracts data from an API, transforms the payload, and loads it into a MySQL database. \n",
    "\n",
    "We will first create a MySQL database via Google Cloud SQL.\n",
    "\n",
    "Then, we will once again be using the free WeatherAPI. We will use the historical weather API to get historical weather for the last 7 days from New York, Mexico City, and Houston. Feel free to use different cities, if you so choose. We will also write \n",
    "\n",
    "Finally, we'll transform our API payload "
   ]
  },
  {
   "cell_type": "markdown",
   "id": "5bc3b176-e452-47fd-98a0-09d8297b0b5d",
   "metadata": {},
   "source": [
    "### I. Configure Google Cloud SQL Database\n",
    "\n",
    "First, let's create a new database instance via [Google Cloud SQL](https://cloud.google.com/sql). Cloud SQL is a fully managed, scaleable solution for hosting MySQL, Postgres, and SQL Server Databases. Specifically, the following are managed for you:\n",
    "\n",
    "- Provisioning Hardware\n",
    "- Installing DBMS run time on VMs\n",
    "- Backups\n",
    "- Encryption\n",
    "- User Generation\n",
    "- Networking and Security\n",
    "\n",
    "Let's navigate to the [Cloud Console](https://console.cloud.google.com/sql) and begin.\n",
    "\n",
    "0. If you do not already have the Cloud SQL API enabled on your Project, you will need to do this first. Don't worry: you will not be billed for enabling the API. \n",
    "1. Select Create Instance\n",
    "2. Select your instance type and run time\n",
    "    1. For this lab, we will be using a MySQL Database\n",
    "    2. And we'll use version 8.0\n",
    "3. Fill in your Instance Info\n",
    "    1. Select an instance ID. This will be the name of your Cloud SQL Instance, not of the database itself. Don't worry too much about this ID. \n",
    "    2. Select the password for the root user. In general, I would recommend letting Google generate the password for you and do not store it. We will provision user accounts later. Do NOT share root user passwords with anyone.\n",
    "    3. Under Database Version, select MySQL 8.0\n",
    "4. Choose region and zonal availability\n",
    "    1. We'll be using us-central1 for environmental reasons, but feel free to choose a region that is closer to you.\n",
    "    2. For zonal availability, we will choose single zone as we don't need high availability for this demo and it costs less. In general, we do recommend multi-zone available when creating production databases, however.\n",
    "5. Customize your instance\n",
    "    1. Machine type: for this demo, let's use a lightweight instance with 1 CPU. For large databases, high memory is a better option.\n",
    "    2. Storage: Select SSD and 10 GB. HDD is a cheaper, lower performance option. Also note that while we can enable automatic storage increases, you cannot decrease the size of your storage. Also note the \"Advanced Encryption Option\" to provide a customer-managed encryption key.\n",
    "    3. Connections: In production, it is generally preferable to only allow private IP addresses. This restricts access to only computers on the same VPC as your database. For this demo, we will allow a public IP address. But, we can still restrict access through the allowed networks. Right now we will leave this blank and come back later when we create our DB users.\n",
    "    4. Automated Backups: we will leave this on the default settings. Note how GCP manages DB backups for you. In an on-prem set up or user managed DB instance, you would have to create your own backups.\n",
    "    5. Maintenance: we will leave this on the default settins. Note how GCP automates maitenance for you. In an on-prem set up or user managed DB instance, you would have to schedule and perform your own maitenance.\n",
    "    6. We will leave flags empty for now.\n",
    "    7. Under labels, let's add an environment label with the key-value `env: dev` so we now this is not a production database.\n",
    "\n",
    "Now we can press `CREATE INSTNACE` and wait 3-5 minutes for our hardware to be provisioned and for our DB software to be installed. While we wait, let's dive into our security options. \n",
    "\n",
    "Now would also be a good time to install the python-mysql-connector if you have not already done so.\n"
   ]
  },
  {
   "cell_type": "markdown",
   "id": "38b5edb1-c273-48a3-a49d-9091bd2ff49a",
   "metadata": {},
   "source": [
    "### II. Discover Database Security Options\n",
    "\n",
    "Let's talk a little bit about our options for securing our database. In general, we would recommend one of four patterns:\n",
    "\n",
    "1. Private IP Address, only\n",
    "2. Public IP Address with Cloud IAM\n",
    "3. Public IP Address with SSL\n",
    "4. Pulic IP Address with whitelisting (encryption optional)\n",
    "\n",
    "Only allowing a Private IP Address restricts access to your DB from computers in the same VPC. Access can also be allowed by authenticating through a VPN. This is the strictest security option you can select, and is generally recommended for Enterprise Companies. It is more strict than anything we will need today.\n",
    "\n",
    "Allowing a Public IP Address allows access to your DB from the Internet. This is not as scary as it sounds. By default, no IP Addresses are whitelisted, which means even though your DB is accessible by the internet, no device may access it. You have three options for access control with a publically accessible database: IAM Roles, SSL, and whitelisting.\n",
    "\n",
    "IAM Roles allow you to provision access to members of your GCP Project, only. This is a great option for accessing your DB from other GCP services as you can provide your VMs with the IAM Roles needed for querying your data. It also allows you to limit what actions certain users can take. For example, you can have read-only roles that can query data, but not create, edit, or delete tables. Remote (i.e. local) access is also feasible, but be careful with storing keys for doing so.  \n",
    "\n",
    "SSL (Secure Socket Layer) is a technology for creating an encrypted link for transfering data. We can require SSL connections to our database, which will require all traffic to include SSL certification. This comes in the form of key files you can downloand from Google Cloud SQL. In general, we prefer security options that do not rely on key files as they can easily be lost or accidentally shared. Always, always store key files in secured Cloud Storage Buckets.\n",
    "\n",
    "Finally, we can restrict traffic to our database by IP Address. We will be using this option for this demo. You can find your IP Address from [here](https://whatismyipaddress.com/). Then we'll create a new user in Google Cloud SQL that can only access our database from our IPv4 Address. Remember your username and password. We'll need that for our connection."
   ]
  },
  {
   "cell_type": "markdown",
   "id": "4cce40c7-afac-4ca0-921b-a2c5ce5bf298",
   "metadata": {},
   "source": [
    "### III. Connect to a MySQL Database via Python\n",
    "\n",
    "Now we're ready to connect to our Google Cloud SQL Instance. Let's take a look at [python-mysql-connector](https://dev.mysql.com/doc/connector-python/en/connector-python-example-connecting.html) documentation.\n",
    "\n",
    "In order to connect to our database, we'll need to:\n",
    "\n",
    "1. Instantiate a mysql connector object\n",
    "2. And pass it the public IP Address for our DB, along with our username and password\n",
    "\n",
    "```python\n",
    "import mysql.connector\n",
    "\n",
    "cnx = mysql.connector.connect(\n",
    "    user='scott', \n",
    "    password='password',\n",
    "    host='127.0.0.1'\n",
    ")\n",
    "```\n",
    "\n",
    "Recall from the APIs for Data lab that including passwords in code is a terrible practice. So we will include this information, as well as our API Keys from the WeatherAPI in a yaml file. Create a YAML File with that information and in the cell below, write the code needed to import our YAML file. You should:\n",
    "\n",
    "1. Open the path to your yaml file\n",
    "2. Store your yaml as a dict called \"config\"\n"
   ]
  },
  {
   "cell_type": "code",
   "execution_count": 4,
   "id": "d3da65ae-fe29-484e-94c7-6d70834827d0",
   "metadata": {},
   "outputs": [],
   "source": [
    "import yaml\n",
    "\n",
    "config_file = open('labClass5.yaml', 'r')\n",
    "config = yaml.safe_load(config_file)"
   ]
  },
  {
   "cell_type": "markdown",
   "id": "43e365a5-c640-4bae-a06d-b1987e04c263",
   "metadata": {},
   "source": [
    "In the cell below, import the mysql connector and instantiate a new connection with your config information from above."
   ]
  },
  {
   "cell_type": "code",
   "execution_count": 105,
   "id": "7cf0c8d2-3969-498b-8268-323ec60e68ec",
   "metadata": {},
   "outputs": [],
   "source": [
    "import mysql.connector\n",
    "\n",
    "client = mysql.connector.connect(**config['connection'])"
   ]
  },
  {
   "cell_type": "markdown",
   "id": "af1948bd-fef9-41e9-9af6-7bca28c670c0",
   "metadata": {},
   "source": [
    "In the cell below, instantiate a new `cursor` object and execute the following query:\n",
    "```sql\n",
    "CREATE DATABASE weather\n",
    "```"
   ]
  },
  {
   "cell_type": "code",
   "execution_count": null,
   "id": "f126a569-241e-416b-a54f-eb41be8ce275",
   "metadata": {},
   "outputs": [],
   "source": [
    "cursor = client.cursor()\n",
    "cursor.execute('CREATE DATABASE weather')"
   ]
  },
  {
   "cell_type": "markdown",
   "id": "4cf48e1c-8fcd-4c74-be46-c484b31dafcf",
   "metadata": {},
   "source": [
    "### IV. Generate UUIDs via Python\n",
    "Recall from the Class 5 that we want need to replace repeated fields with an id. [UUIDs](https://docs.python.org/3/library/uuid.html) are a common and effective ID format. In the cell below, create a cities list where each element in the list is an object with two keys, `name` and `id` where the ID is a UUID. I will be using three cities: New York, Houston, and Mexico City. You may use any number of cities."
   ]
  },
  {
   "cell_type": "code",
   "execution_count": 6,
   "id": "503e0e9c-c058-4d9d-80cf-e2da414b6ab1",
   "metadata": {},
   "outputs": [],
   "source": [
    "import uuid\n",
    "\n",
    "### Your Code Here\n",
    "cities = [\n",
    "    {'name': 'New York', 'id': str(uuid.uuid4())},\n",
    "    {'name': 'Houston', 'id': str(uuid.uuid4())},\n",
    "    {'name': 'Mexico City', 'id': str(uuid.uuid4())},\n",
    "]"
   ]
  },
  {
   "cell_type": "markdown",
   "id": "4b12d3a2-78b3-43d0-a2ee-a9543cb1bc04",
   "metadata": {},
   "source": [
    "[Data Definition Language](https://www.techopedia.com/definition/1175/data-definition-language-ddl), or DDL, is SQL for creating new database tables. In the cell below, you will see the DDL needed to create a `cities` table with two fields: name and id. Both fields are of type variable character (VARCHAR), which are strings that can have up to a specified number of characters. Also note that to execute the query, we will use the our cursor's `execute()` method. "
   ]
  },
  {
   "cell_type": "code",
   "execution_count": 119,
   "id": "5ec06ae6-eefd-41bc-aa5a-b4c9c86ceef2",
   "metadata": {},
   "outputs": [],
   "source": [
    "ddl = (\n",
    "    \"CREATE TABLE weather.cities(\"\n",
    "    \"name VARCHAR(255),\"\n",
    "    \"id VARCHAR(40)\"\n",
    "    \")\"\n",
    ")\n",
    "cursor.execute(ddl)"
   ]
  },
  {
   "cell_type": "markdown",
   "id": "805ed824-21a2-4166-9852-2b407c26cd29",
   "metadata": {},
   "source": [
    "[Data Manipulation Language](https://www.techopedia.com/definition/1179/data-manipulation-language-dml), or DML, is SQL for adding or updating data in database tables. In the cell below, you will see the code needed to insert each of our cities into our new cities table. Note that in this case, we will pass to our cursor both our DML string and a tuple containing the names and IDs for each city."
   ]
  },
  {
   "cell_type": "code",
   "execution_count": 121,
   "id": "2621467b-76e7-4fe2-9a04-559038d3e856",
   "metadata": {},
   "outputs": [],
   "source": [
    "dml = (\n",
    "    \"INSERT INTO weather.cities (\"\n",
    "    \"name,\"\n",
    "    \"id\"\n",
    "    \")\"\n",
    "    \"VALUES (\"\n",
    "    \"%s,\"\n",
    "    \"%s\"\n",
    "    \")\"\n",
    ")\n",
    "for city in cities:\n",
    "    cursor.execute(dml, (city['name'], city['id']))"
   ]
  },
  {
   "cell_type": "markdown",
   "id": "4c6db30a-af55-4fe8-89ca-858a065c97fd",
   "metadata": {},
   "source": [
    "To validate that our DML was successful, we will run a query to select each row from our cities table in the cell below. Note that we are using the `fetchall()` method to extract the results of our query."
   ]
  },
  {
   "cell_type": "code",
   "execution_count": 122,
   "id": "34f283ad-8847-4ff2-90dd-dc3c6574ae46",
   "metadata": {},
   "outputs": [],
   "source": [
    "cursor.execute(\"SELECT * FROM weather.cities\")\n",
    "cursor.fetchall()"
   ]
  },
  {
   "cell_type": "markdown",
   "id": "445d8fd8-373c-49ce-bd32-04859f3194dc",
   "metadata": {},
   "source": [
    "Finally, after verifying the data in our cities table, we have to commit the changes to our table using our MySQL client's `commit()` method."
   ]
  },
  {
   "cell_type": "code",
   "execution_count": 124,
   "id": "77158a1e-827e-4a7e-919c-55fd9c91c43c",
   "metadata": {},
   "outputs": [],
   "source": [
    "client.commit()"
   ]
  },
  {
   "cell_type": "markdown",
   "id": "eb0dd299-1b46-446c-935c-3b6b943d612d",
   "metadata": {},
   "source": [
    "## BREAK"
   ]
  },
  {
   "cell_type": "markdown",
   "id": "d722b1bd-c065-4130-b771-8d13eb50353b",
   "metadata": {},
   "source": [
    "### V. Normalize API Request Payloads\n",
    "\n",
    "Let's review. To this point we have:\n",
    "\n",
    "1. Created a MySQL database via Google Cloud SQL\n",
    "2. Connected to our database via python\n",
    "3. Created a cities table in our database\n",
    "\n",
    "Now that we know how to interact with our database, let's replicate the ETL process we ran in Lab 4, but write our API Request Payloads to a database table, rather than a CSV. Let's start by generating our request bodies. Free accounts for the Weather API can query historical data up to 7 days. The following code creates a list with the last 7 days as well as the components you need to create API calls for the history endpoint.\n",
    "\n",
    "Where indicated, please append to the request_bodies list an API call body for each city in your cities dict and date in the dates list. Note that requests to the history endpoint are formatted as \n",
    "\n",
    "https://api.weatherapi.com/v1/history.json?key={weather_key}&q={city}&dt={date}"
   ]
  },
  {
   "cell_type": "code",
   "execution_count": 7,
   "id": "2d0395bd-500e-4571-9a85-bd5b0e215569",
   "metadata": {},
   "outputs": [],
   "source": [
    "import requests\n",
    "from datetime import date, timedelta\n",
    "\n",
    "weather_key = config['weather_key']\n",
    "end = date.today()\n",
    "start = end - timedelta(7)\n",
    "dates = [str(start+timedelta(days=x)) for x in range((end-start).days)]\n",
    "base_url = 'http://api.weatherapi.com/v1/'\n",
    "history_api = 'history.json?' \n",
    "auth = f'key={weather_key}'\n",
    "\n",
    "\n",
    "request_bodies = []\n",
    "### Your Code Here\n",
    "for city in cities:\n",
    "    for date in dates:\n",
    "        request_bodies.append(base_url + history_api + auth + f\"&q={city['name']}&dt={date}\")"
   ]
  },
  {
   "cell_type": "markdown",
   "id": "c11e6d19-ac3f-46fa-bd5c-b904f9c1dc56",
   "metadata": {},
   "source": [
    "Great. Now that we have our request bodies, in the cell below:\n",
    "1. Loop through each request body\n",
    "2. Make a get request\n",
    "3. Convert the request payload to a dict using the .json() method\n",
    "4. And append the payload to the data list"
   ]
  },
  {
   "cell_type": "code",
   "execution_count": 11,
   "id": "8e5d04c6-6291-4f41-b55b-667f55b5a499",
   "metadata": {},
   "outputs": [],
   "source": [
    "import requests\n",
    "\n",
    "\n",
    "data = []\n",
    "### Your Code Here\n",
    "for request in request_bodies:\n",
    "    data.append(requests.get(request).json())"
   ]
  },
  {
   "cell_type": "markdown",
   "id": "961932d5-443f-413b-aa65-79a2aa364fb7",
   "metadata": {},
   "source": [
    "Now that we have our payloads, we need to once again parse them into the daily and hourly forecast. The following code loops through each element in our data and pulls out the city, date, and daily forecast. Given that we have three cities and seven days per city, we should end up with 21 elements in our forecast day list. "
   ]
  },
  {
   "cell_type": "code",
   "execution_count": null,
   "id": "0da53278-f55b-484d-82ce-7ef411a3f808",
   "metadata": {},
   "outputs": [],
   "source": [
    "forecast_day = []\n",
    "for row in data:\n",
    "    for day in row['forecast']['forecastday']:\n",
    "        forecast_day.append(\n",
    "            {'city': row['location']['name'], 'date': day['date'], 'forecast': day['day']}      \n",
    "        )\n",
    "print(len(forecast_day))"
   ]
  },
  {
   "cell_type": "markdown",
   "id": "356e2c11-4448-4f84-9dfc-27925c1715c3",
   "metadata": {},
   "source": [
    "In the cell below, replicate the process above for the hourly forecasts. Each element in the forecast_horu list should be a dict with the following keys:\n",
    "\n",
    "- city\n",
    "- date\n",
    "- hour\n",
    "- forecast\n",
    "\n",
    "Because we have three cities, seven days per city, and 24 hours per day, we should end up with 504 elements in forecast_hour. "
   ]
  },
  {
   "cell_type": "code",
   "execution_count": 22,
   "id": "36d31763-6589-4047-8491-c33e408f1144",
   "metadata": {},
   "outputs": [],
   "source": [
    "forecast_hour = []\n",
    "\n",
    "### Your Code here\n",
    "for row in data:\n",
    "    for day in row['forecast']['forecastday']:\n",
    "        for hour in day['hour']:\n",
    "            forecast_hour.append(\n",
    "                {'city': row['location']['name'], 'date': day['date'], 'hour': hour['time'], 'forecast': hour}     \n",
    "            )\n",
    "###\n",
    "print(len(forecast_hour))"
   ]
  },
  {
   "cell_type": "markdown",
   "id": "c507b393-1a79-461f-941d-5df42532be2a",
   "metadata": {},
   "source": [
    "To normalize our request payloads, we need to add the corresponding city id to each object in our forecast_day and forecast_hour lists. \n",
    "\n",
    "In the cell below, write a for loop that for each object in forecast_day, appends a key `city_id` equal to the city_id corresponding to the city of that forecast."
   ]
  },
  {
   "cell_type": "code",
   "execution_count": 28,
   "id": "712529ba-773a-4eee-886e-8c3d4727e87d",
   "metadata": {},
   "outputs": [],
   "source": [
    "### Your Code Here\n",
    "for row in forecast_day:\n",
    "    for city in cities:\n",
    "        if row['city'] == city['name']:\n",
    "            row['city_id'] = city['id']"
   ]
  },
  {
   "cell_type": "markdown",
   "id": "cd71cb48-a233-4e48-b009-a00483d560a7",
   "metadata": {},
   "source": [
    "In the cell below, write a for loop that for each object in forecast_hour, appends a key city_id equal to the city_id corresponding to the city of that forecast."
   ]
  },
  {
   "cell_type": "code",
   "execution_count": 91,
   "id": "2bf4c101-57c6-441d-9401-abc19afd76c4",
   "metadata": {},
   "outputs": [],
   "source": [
    "for row in forecast_hour:\n",
    "    for city in cities:\n",
    "        if row['city'] == city['name']:\n",
    "            row['city_id'] = city['id']"
   ]
  },
  {
   "cell_type": "markdown",
   "id": "a27a36a0-7e31-4adb-8056-cab5fad1483b",
   "metadata": {},
   "source": [
    "### VI. Insert API Request Payloads into Database Tables\n",
    "\n",
    "Ok, now we're ready to write our request payloads to our MySQL Database. In the cell below, I am reading from the \"create_daily_forecast.sql\" file for my DDL. You may instead choose to write your DDL as a string like above. But it is generally preferable to read SQL files into your code than to include the SQL directly as string."
   ]
  },
  {
   "cell_type": "code",
   "execution_count": null,
   "id": "98ab6563-d157-4e99-b9c3-459589fe0284",
   "metadata": {},
   "outputs": [],
   "source": [
    "with open(\"create_daily_forecast.sql\") as ddl:\n",
    "    cursor.execute(ddl.read())"
   ]
  },
  {
   "cell_type": "markdown",
   "id": "e818a45f-3a1a-4dc3-b817-4a242317e53a",
   "metadata": {},
   "source": [
    "Remember from the DML for our cities table that we need to pass our data into the cursor as a tuple. In the cell below, I am looping through the forecast_day list and for each day, creating a tuple with:\n",
    "\n",
    "- A UUID to act as the primary key\n",
    "- city_id\n",
    "- Date\n",
    "- Max Temp\n",
    "- Min Temp\n",
    "\n",
    "We would probably want to include additional fields if we were creating a full weather database, but this is enough for a demo.\n",
    "\n",
    "Once we have our tuples ready, we can use the `executemany()` method, which applies a list of tuples to the our dml code. Also note that we are reading from the \"insert_daily_forecast.sql\" file for our DML."
   ]
  },
  {
   "cell_type": "code",
   "execution_count": null,
   "id": "105084cb-cb60-44a8-a8be-36f51354f1d1",
   "metadata": {},
   "outputs": [],
   "source": [
    "daily_forecast = []\n",
    "for day in forecast_day:\n",
    "    daily_forecast.append((\n",
    "        str(uuid.uuid4()),\n",
    "        day['city_id'], \n",
    "        day['date'], \n",
    "        day['forecast']['maxtemp_f'], \n",
    "        day['forecast']['mintemp_f'])\n",
    "    )\n",
    "    \n",
    "with open(\"insert_daily_forecast.sql\") as dml:\n",
    "    cursor.executemany(dml.read(), daily_forecast)"
   ]
  },
  {
   "cell_type": "markdown",
   "id": "8cdaa3b7-8814-445e-8c61-65d5e341e50b",
   "metadata": {},
   "source": [
    "Once we insert our rows, we'll need to commit the changes to our DB"
   ]
  },
  {
   "cell_type": "code",
   "execution_count": null,
   "id": "4656adc0-a249-4cca-a058-6c48e80429d7",
   "metadata": {},
   "outputs": [],
   "source": [
    "client.commit()"
   ]
  },
  {
   "cell_type": "markdown",
   "id": "8daefbe9-406f-4632-affa-d146f948420c",
   "metadata": {},
   "source": [
    "Now to verify the success of our DML, we'll run the following query to get the number of rows in our daily_forecast table. It should match the number of elements in our forecast_day list (21).\n",
    "\n",
    "Note that the cursor.fetchall() method always returns a list of tuples. As such, we will need to first take the first element of the returned list and than the first element of that tuple to get a single number."
   ]
  },
  {
   "cell_type": "code",
   "execution_count": null,
   "id": "0e0b8138-fc40-4a2c-af8b-0e13e760c61c",
   "metadata": {},
   "outputs": [],
   "source": [
    "query = 'SELECT COUNT(*) FROM weather.daily_forecast'\n",
    "cursor.execute(query)\n",
    "output = cursor.fetchall()\n",
    "print(f\"{output[0][0]} rows inserted\")"
   ]
  },
  {
   "cell_type": "markdown",
   "id": "72724165-061a-4b0c-8e26-629a1cf104d0",
   "metadata": {},
   "source": [
    "In the cell below, please run the DDL to create the hourly forecast table, found in \"create_hourly_forecast.sql\""
   ]
  },
  {
   "cell_type": "code",
   "execution_count": 100,
   "id": "bc18d885-090b-4e44-b57e-a97bfa8d4144",
   "metadata": {},
   "outputs": [],
   "source": [
    "### Your Code Here\n",
    "\n",
    "with open(\"create_hourly_forecast.sql\") as ddl:\n",
    "    cursor.execute(ddl.read())"
   ]
  },
  {
   "cell_type": "markdown",
   "id": "be46b8ae-e647-441c-a830-7f60ae28e505",
   "metadata": {},
   "source": [
    "In the cell below, please run the DML to insert the data from forecast_hour into the newly created hourly_forecast table."
   ]
  },
  {
   "cell_type": "code",
   "execution_count": 114,
   "id": "d45bc816-335a-451a-8e59-9f96460ce3f9",
   "metadata": {},
   "outputs": [],
   "source": [
    "### Your code Here\n",
    "\n",
    "hourly_forecast = []\n",
    "for hour in forecast_hour:\n",
    "    hourly_forecast.append((\n",
    "        str(uuid.uuid4()),\n",
    "        hour['city_id'], \n",
    "        hour['date'], \n",
    "        hour['hour'], \n",
    "        hour['forecast']['temp_f'],\n",
    "        hour['forecast']['feelslike_f'],\n",
    "        hour['forecast']['chance_of_rain'],\n",
    "        hour['forecast']['chance_of_snow']\n",
    "    ))\n",
    "with open(\"insert_hourly_forecast.sql\") as dml:\n",
    "    cursor.executemany(dml.read(), hourly_forecast)"
   ]
  },
  {
   "cell_type": "markdown",
   "id": "f05348af-6d60-40ff-8b74-ca0f4541d786",
   "metadata": {},
   "source": [
    "After running your code below, commit the changes in the cell below."
   ]
  },
  {
   "cell_type": "code",
   "execution_count": 115,
   "id": "cab5e21f-92aa-4959-b679-1178f3d693a8",
   "metadata": {},
   "outputs": [],
   "source": [
    "client.commit()"
   ]
  },
  {
   "cell_type": "markdown",
   "id": "3c0d8242-63ec-45dc-8704-bfc3525bb3ed",
   "metadata": {},
   "source": [
    "Finally, run the cell below to verify your insert was successful. You should have inserted 504 rows (or however many records you had in your forecast_hour list."
   ]
  },
  {
   "cell_type": "code",
   "execution_count": null,
   "id": "496e93af-2095-474f-8ece-e87cebf177d9",
   "metadata": {},
   "outputs": [],
   "source": [
    "query = 'SELECT COUNT(*) FROM weather.hourly_forecast'\n",
    "cursor.execute(query)\n",
    "output = cursor.fetchall()\n",
    "print(f\"{output[0][0]} rows inserted\")"
   ]
  }
 ],
 "metadata": {
  "kernelspec": {
   "display_name": "Python 3 (ipykernel)",
   "language": "python",
   "name": "python3"
  },
  "language_info": {
   "codemirror_mode": {
    "name": "ipython",
    "version": 3
   },
   "file_extension": ".py",
   "mimetype": "text/x-python",
   "name": "python",
   "nbconvert_exporter": "python",
   "pygments_lexer": "ipython3",
   "version": "3.9.6"
  }
 },
 "nbformat": 4,
 "nbformat_minor": 5
}
