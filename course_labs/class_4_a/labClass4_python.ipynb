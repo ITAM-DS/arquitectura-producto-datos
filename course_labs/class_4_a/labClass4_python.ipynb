{
 "cells": [
  {
   "cell_type": "markdown",
   "id": "2197e311-4fd7-469d-b16f-229f1af0c4fa",
   "metadata": {
    "tags": []
   },
   "source": [
    "### I. Discover API Documentation\n",
    "First, let's take a look at the [API Docs](https://www.weatherapi.com/docs/) for the free WeatherAPI.\n",
    "\n",
    "When performing discovery on an API, look for answers to the following questions:\n",
    "\n",
    "1. What endpoints are available and what data sources do they offer?\n",
    "2. How is Authentication performed when making requests?\n",
    "3. Is a software development kit (SDK) available?\n",
    "4. How are requests to the API formatted?\n",
    "5. How are request payloads formatted? What fields are included?\n",
    "\n",
    "The WeatherAPI offers forecasted and historical weather data as well as location, astronomy, and other misc endpoints. For this lab, we will be focusing on current and forecasted weather. But feel free to explore the other endpoints available. Data is returned in json or xml format.\n",
    "\n",
    "Authentication is performed via API Key. We can get one by signing up for a free account. In general, it is not a best practice to include API Keys directly in the code that is making the API request. We will cover storing and retrieving API Keys in the next section.\n",
    "\n",
    "[SDKs](https://github.com/weatherapicom/) are available in several programming languages. SDKs are useful tools as they provide shortcuts and integrations for developing in the programming language of your choice. We will not be using the WeatherAPI SDK for this lab, but much of the code we will write for this lab has already been replicated in some form via the SDK. In general, use SDKs when they are available. They will save you time.\n",
    "\n",
    "API Requests are formatted as follows:\n",
    "\n",
    "`base url + <endpoint_name>.<file_extension> + auth + <query>`\n",
    "\n",
    "With:\n",
    "\n",
    "base url = `'http://api.weatherapi.com/v1/'`\n",
    "\n",
    "auth = `'key=<api_key>'`\n",
    "\n",
    "We'll look at some examples in Part III.\n",
    "\n",
    "Finally, let's look at the docs for the forecast API. It looks like the payload contains three parts:\n",
    "1. A day element containing the date and daily forecast information\n",
    "2. An astro element sunrise and sunset data\n",
    "3. An hour element containing the datetime and hourly forecast information\n",
    "\n",
    "We'll explore these later on in the lab.\n"
   ]
  },
  {
   "cell_type": "markdown",
   "id": "040b1a03-66c4-48d0-bed6-bb96603e135c",
   "metadata": {
    "tags": []
   },
   "source": [
    "### II. Storing and Retrieving API Keys\n",
    "[YAML](https://yaml.org/) (YAML Ain't Markup Language) is a human readable, [data-serialization](https://en.wikipedia.org/wiki/Serialization) language that is accessible to all programming languages. It is commonly used for config files as it is extremely easy to write due to it's lack of punctuation,\n",
    "\n",
    "We can store our API key for the WeatherAPI in a yaml file like so:\n",
    "\n",
    "```yaml\n",
    "weather_key: <key>\n",
    "```\n",
    "\n",
    "We can then access our API key in python by using the pyyaml library.\n",
    "\n",
    "We can do this by:\n",
    "\n",
    "1. Importing pyyaml\n",
    "2. Reading our config file \n",
    "3. Converting the config file to a python dict via pyyaml and accessing the 'weather_key' element"
   ]
  },
  {
   "cell_type": "code",
   "execution_count": 2,
   "id": "1334a683-63c2-4a60-bc20-0838c6bdca3a",
   "metadata": {},
   "outputs": [],
   "source": [
    "import yaml\n",
    "key_file = open('labClass4.yaml', 'r')\n",
    "weather_key = yaml.safe_load(key_file)['weather_key']"
   ]
  },
  {
   "cell_type": "markdown",
   "id": "c57b76b4-2332-402b-a441-482cbf5fee58",
   "metadata": {},
   "source": [
    "### III. Making API Calls in Python\n",
    "The Python [Requests](https://docs.python-requests.org/en/latest/) Library is a lightweight tool for making HTTP and API requests. It's also part of the Python standard library, making it easily accessible in all applications. Let's examine some of it's features by using the Current Weather endpoint from WeatherAPI.\n",
    "\n",
    "Recall that we need the following components to make a GET request from WeatherAPI:\n",
    "\n",
    "1. The base url: `'http://api.weatherapi.com/v1/'`\n",
    "2. The Endpoint and return file format: `'current.json'`\n",
    "3. Our API Key: `'key=<weather_key>'`\n",
    "4. And our query, which will be the location for which we want the current weather\n",
    "\n",
    "Here is an example from the API Docs: `http://api.weatherapi.com/v1/current.json?key=<YOUR_API_KEY>&q=London`\n",
    "Notice how the pieces are combined:\n",
    "1. There is a question mark (\"?\") between the endpoint and auth components\n",
    "2. The query component begins with \"q=\"\n",
    "3. And there is an ampersand (\"&\") between the auth and query components.\n",
    "\n",
    "We can thus parametrize our request as follows:"
   ]
  },
  {
   "cell_type": "code",
   "execution_count": 3,
   "id": "33d4cdf0-1317-4dfc-beda-ece8963ae936",
   "metadata": {},
   "outputs": [],
   "source": [
    "base_url = 'http://api.weatherapi.com/v1/'\n",
    "current_api = 'current.json?' \n",
    "auth = f'key={weather_key}' #Using the weather key variable from the previous section\n",
    "query = '11101' #My Zip Code\n",
    "request_body = base_url + current_api + auth + f'&q={query}'"
   ]
  },
  {
   "cell_type": "code",
   "execution_count": null,
   "id": "03569265-a30f-41d4-8dc0-8f00686c0dee",
   "metadata": {},
   "outputs": [],
   "source": [
    "print(request)"
   ]
  },
  {
   "cell_type": "markdown",
   "id": "a1af6ca7-aea3-426e-843d-ef66b9df8578",
   "metadata": {},
   "source": [
    "You might ask why we are storing our auth component as its own variable but use an [f-string](https://www.geeksforgeeks.org/formatted-string-literals-f-strings-python/) for the query component in the request body. We do this because our query component will change depending on the API endpoint we use but our auth component will always be the same.\n",
    "\n",
    "Now that we have our request body, let's make our first get request. We can do so by:\n",
    "1. Importing the requests library\n",
    "2. Using the `requests.get()` method and passing our body as a parameter.\n"
   ]
  },
  {
   "cell_type": "code",
   "execution_count": null,
   "id": "9860673f-4c06-4462-94bf-a21b55f97c68",
   "metadata": {},
   "outputs": [],
   "source": [
    "import requests\n",
    "requests.get(request_body)"
   ]
  },
  {
   "cell_type": "markdown",
   "id": "67607a6f-5616-42d2-96d0-657cfad266b6",
   "metadata": {},
   "source": [
    "You should have received the following output: \n",
    "\n",
    "`<Response [200]>`\n",
    "\n",
    "That's great! A 200 code means your request was successfully. But now what? The Docs for the Requests library recommends storing your request as a variable so that you can easily access its methods and properties."
   ]
  },
  {
   "cell_type": "code",
   "execution_count": null,
   "id": "d29297a2-c8a2-4df6-b30a-7d130cf50814",
   "metadata": {},
   "outputs": [],
   "source": [
    "current_request = requests.get(request_body)\n",
    "print(current_request.status_code) #Should return same 200 code \n",
    "print(current_request.text) #Returns the body of the payload as a string"
   ]
  },
  {
   "cell_type": "markdown",
   "id": "30599ed1-7b63-42bd-9d49-684edb43754b",
   "metadata": {},
   "source": [
    "Awesome! Our request was successful and we can now access the payload. But something is still missing. Can you think of it?"
   ]
  },
  {
   "cell_type": "markdown",
   "id": "0cf91551-1cde-4436-9135-07cf3649b804",
   "metadata": {},
   "source": [
    "Our payload is currently formatted as a string. It would be more useful if it was converted into an iterable class, like a dict. We can do so by using the built in JSON decoder, which converts JSON formatted strings into python dicts."
   ]
  },
  {
   "cell_type": "code",
   "execution_count": null,
   "id": "e65c753d-e975-462f-a847-1e0ecb0283a7",
   "metadata": {},
   "outputs": [],
   "source": [
    "print(current_request.json())\n",
    "print() #Newline\n",
    "print(current_request.json()['location'])\n",
    "print() #Newline\n",
    "print(current_request.json()['location']['name'])"
   ]
  },
  {
   "cell_type": "markdown",
   "id": "b5bcf36d-a6aa-4dc6-9544-d664207b75f1",
   "metadata": {},
   "source": [
    "We'll take a deeper look at what we can do with our request payloads in the next section. But first, let's take a 5 minute break."
   ]
  },
  {
   "cell_type": "markdown",
   "id": "3f563e1c-97e5-4a23-afa4-445eac70ec05",
   "metadata": {},
   "source": [
    "### Break"
   ]
  },
  {
   "cell_type": "markdown",
   "id": "33f7aa5e-a3e5-4224-ada6-2aa5f1fdeb1a",
   "metadata": {},
   "source": [
    "### IV. Parsing GET Request Payloads\n",
    "Let's review. To this point, we have:\n",
    "1. Reviewed the documentation for the WeatherAPI\n",
    "2. Stored and retrieved our API Key\n",
    "3. Parametrized our GET request body\n",
    "4. Made a GET request to the Current Weather endpoint of the WeatherAPI\n",
    "5. Converted the request payload into a python iterable.\n",
    "\n",
    "That's a lot!"
   ]
  },
  {
   "cell_type": "markdown",
   "id": "42dab6f5-beaa-4ff7-94ba-e016d2f5d091",
   "metadata": {},
   "source": [
    "Now let's see what we can do with our request payloads. We'll be using the Forecast endpoint for this section as it has a lot more data in it than the Current endpoint. What changes will we need to make to our request body from Section 3?"
   ]
  },
  {
   "cell_type": "markdown",
   "id": "a495dbe2-98af-4187-a862-63846d2f78a1",
   "metadata": {},
   "source": [
    "We'll need to update the endpoint as well as our query. Requests to the Forecasts Endpoint are formatted like this:\n",
    "\n",
    "`http://api.weatherapi.com/v1/forecast.json?key=<YOUR_API_KEY>&q=07112&days=7`\n",
    "\n",
    "So now our query has two parameters: location and number of days."
   ]
  },
  {
   "cell_type": "code",
   "execution_count": 4,
   "id": "db47209a-010a-49d7-9339-a314bac7d1fd",
   "metadata": {},
   "outputs": [],
   "source": [
    "forecast_api = 'forecast.json?'\n",
    "query = {'zipcode': '11101', 'days': '3'}"
   ]
  },
  {
   "cell_type": "markdown",
   "id": "a2bd5c69-f716-4f1c-8f2d-1ded7a4384e8",
   "metadata": {},
   "source": [
    "Our query parameter is now a dict so we can keep all of it's components together. Using the above and the request body from Section 3, trying writing the body for our GET request."
   ]
  },
  {
   "cell_type": "code",
   "execution_count": 7,
   "id": "0f615c57-28a9-457d-83ff-8f24a40c0725",
   "metadata": {},
   "outputs": [
    {
     "name": "stdout",
     "output_type": "stream",
     "text": [
      "http://api.weatherapi.com/v1/forecast.json?key=38558b5027bf4ce4aa5200148213011&q=11101&days=3\n"
     ]
    }
   ],
   "source": [
    "request_body = base_url + forecast_api + auth + f\"&q={query['zipcode']}&days={query['days']}\"\n",
    "print(request_body)"
   ]
  },
  {
   "cell_type": "markdown",
   "id": "e7435ef6-f4bf-4e79-b2af-dd7f74422570",
   "metadata": {},
   "source": [
    "Great! Now like before, we can pass our request body into a GET request using the `requests.get()` method and convert it into an iterable using `.json()`."
   ]
  },
  {
   "cell_type": "code",
   "execution_count": null,
   "id": "60bc2c0d-c13f-4e1e-b490-630df6add9ed",
   "metadata": {},
   "outputs": [],
   "source": [
    "forecast_request = requests.get(request_body).json()\n",
    "print(forecast_request)"
   ]
  },
  {
   "cell_type": "markdown",
   "id": "f02ea45a-92ee-4542-b387-23002009a59b",
   "metadata": {},
   "source": [
    "Ok! There's a lot more here now. If we remember back to Section 1, the Forecast Endpoint payload has three sections:\n",
    "\n",
    "1. Day\n",
    "2. Astro\n",
    "3. Hour\n",
    "\n",
    "We can more easily read our payload by using a [JSON Formatter](https://jsonformatter.curiousconcept.com/#) and feeding it our payload.\n",
    "\n",
    "Interestingly, it seems calling the Forecast API also makes a get request to the Location and Current Endpoints as we have three nested objects:\n",
    "- location\n",
    "- current\n",
    "- forecast\n",
    "\n",
    "Inside the forecast object, we see an array of objects called 'forecastday'. Each forecastday object contains the date as well as a Day, Astro and Hour objects. The Hour object is an array containing forecast data for each hour of the day.\n",
    "\n",
    "Let's start by isolating just the day and hour objects."
   ]
  },
  {
   "cell_type": "markdown",
   "id": "2e67a6e6-a944-4738-935e-63a44bd6fa62",
   "metadata": {},
   "source": [
    "For the daily forecast, we can start by creating a blank list. Then we can loop through the our payload and append each day object as a new element in our list."
   ]
  },
  {
   "cell_type": "code",
   "execution_count": 8,
   "id": "b632fbbc-5864-490f-936f-5c833d93e6aa",
   "metadata": {},
   "outputs": [
    {
     "name": "stdout",
     "output_type": "stream",
     "text": [
      "{'date': '2022-01-13', 'forecast': {'maxtemp_c': 5.2, 'maxtemp_f': 41.4, 'mintemp_c': 0.8, 'mintemp_f': 33.4, 'avgtemp_c': 2.4, 'avgtemp_f': 36.3, 'maxwind_mph': 6.0, 'maxwind_kph': 9.7, 'totalprecip_mm': 0.0, 'totalprecip_in': 0.0, 'avgvis_km': 10.0, 'avgvis_miles': 6.0, 'avghumidity': 61.0, 'daily_will_it_rain': 0, 'daily_chance_of_rain': 0, 'daily_will_it_snow': 0, 'daily_chance_of_snow': 0, 'condition': {'text': 'Cloudy', 'icon': '//cdn.weatherapi.com/weather/64x64/day/119.png', 'code': 1006}, 'uv': 1.0}}\n"
     ]
    }
   ],
   "source": [
    "forecast_day = [] # create an empty list\n",
    "for day in forecast_request['forecast']['forecastday']: # loop through the forecastday array\n",
    "    forecast_day.append(\n",
    "        {'date': day['date'], 'forecast': day['day']} # append an object containing the date and forecast for each day       \n",
    "    )\n",
    "print(forecast_day[0])"
   ]
  },
  {
   "cell_type": "markdown",
   "id": "ebe0d8e8-d394-4a1b-9709-c6c5c32a5ec8",
   "metadata": {},
   "source": [
    "So now, we have to loop through each object in the forecast day array, and then loop through each element in the hour array contained in the elements. Specifically, for each of the 3 elements in forecastday, we want to pull out the 24 elements in hour. So we should end up with a python list containing 72 elements."
   ]
  },
  {
   "cell_type": "code",
   "execution_count": 9,
   "id": "ff458eab-53d5-4343-bd7c-8b4832200c2c",
   "metadata": {},
   "outputs": [
    {
     "name": "stdout",
     "output_type": "stream",
     "text": [
      "72\n",
      "{'date': '2022-01-16', 'hour': '2022-01-16 00:00', 'forecast': {'time_epoch': 1642309200, 'time': '2022-01-16 00:00', 'temp_c': -8.4, 'temp_f': 16.9, 'is_day': 0, 'condition': {'text': 'Clear', 'icon': '//cdn.weatherapi.com/weather/64x64/night/113.png', 'code': 1000}, 'wind_mph': 8.5, 'wind_kph': 13.7, 'wind_degree': 356, 'wind_dir': 'N', 'pressure_mb': 1029.0, 'pressure_in': 30.4, 'precip_mm': 0.0, 'precip_in': 0.0, 'humidity': 28, 'cloud': 0, 'feelslike_c': -14.4, 'feelslike_f': 6.1, 'windchill_c': -14.4, 'windchill_f': 6.1, 'heatindex_c': -8.4, 'heatindex_f': 16.9, 'dewpoint_c': -23.7, 'dewpoint_f': -10.7, 'will_it_rain': 0, 'chance_of_rain': 0, 'will_it_snow': 0, 'chance_of_snow': 0, 'vis_km': 10.0, 'vis_miles': 6.0, 'gust_mph': 11.0, 'gust_kph': 17.6, 'uv': 1.0}}\n"
     ]
    }
   ],
   "source": [
    "forecast_hour = [] # create an empty list\n",
    "for day in forecast_request['forecast']['forecastday']:  # loop through the forecastday array\n",
    "    for hour in day['hour']: # loop through each hour array in forecast day\n",
    "        forecast_hour.append(\n",
    "            {'date': day['date'], 'hour': hour['time'], 'forecast': hour} # append an object contianing the date, hour, and forecast for each hour       \n",
    "        )\n",
    "print(len(forecast_hour)) # Check that we have 72 elements\n",
    "print(forecast_hour[0]) # Let's just look at the first one"
   ]
  },
  {
   "cell_type": "markdown",
   "id": "782109dc-afab-4601-b257-6e34dbaf5381",
   "metadata": {},
   "source": [
    "### V. Writing Request Payloads to .csv Files"
   ]
  },
  {
   "cell_type": "markdown",
   "id": "5cf9a804-957f-449d-b670-908bf70276b5",
   "metadata": {},
   "source": [
    "The Python [csv](https://docs.python.org/3/library/csv.html) Library is a simple module for reading, writing, and interacting with csv files. It also provides classes for converting csv files to python dicts and vice versa.\n",
    "\n",
    "We'll start by writing our daily forecast list to a CSV. The process is as follows:\n",
    "\n",
    "1. Import the csv library\n",
    "2. create a new csv file called 'daily_forecast.csv'\n",
    "3. Instantiate a new csv.writer() object for our daily forecast, using our 'daily_forecast.csv' file as a target\n",
    "4. Write a header row containing the names of our forecast fields\n",
    "5. Loop through each element of our `forecast_day` list from Part IV\n",
    "6. Write a new row in 'daily_forecast.csv' for each element in `forecast_day`"
   ]
  },
  {
   "cell_type": "markdown",
   "id": "105725b7-c6e9-4a6c-83f1-41fd613132f4",
   "metadata": {},
   "source": [
    "For this example, we'll use these fields:\n",
    "1. Date \n",
    "2. Max Temperature (in fahrenheit)\n",
    "3. Min Temperature\n",
    "4. Chance of rain \n",
    "5. And weather conditions\n",
    "\n",
    "The end result should be a csv file with 3 rows"
   ]
  },
  {
   "cell_type": "code",
   "execution_count": 12,
   "id": "ce31be8c-5714-46a7-bf6d-3ef00fd8dc2c",
   "metadata": {},
   "outputs": [],
   "source": [
    "import csv"
   ]
  },
  {
   "cell_type": "code",
   "execution_count": 11,
   "id": "daa882ff-1778-4dce-9a1f-3a9de65accfc",
   "metadata": {},
   "outputs": [],
   "source": [
    "with open('daily_forecast.csv', 'w', newline = '') as file: # Create a new csv file named 'daily_forecast'\n",
    "    daily_forecast = csv.writer(file, delimiter = ',') # Instantiate a csv.writer() object, writing to 'daily_forecast.csv'\n",
    "    daily_forecast.writerow(['date', 'maxtemp_f', 'mintemp_f', 'avgtemp_f', 'daily_chance_of_rain','condition_text']) # Write the header for our csv file\n",
    "    \n",
    "    for day in forecast_day: # Loop through our forecast_day list and write the following fields in our csv file\n",
    "            daily_forecast.writerow([\n",
    "                day['date'], \n",
    "                day['forecast']['maxtemp_f'], \n",
    "                day['forecast']['mintemp_f'],\n",
    "                day['forecast']['avgtemp_f'],\n",
    "                day['forecast']['daily_chance_of_rain'],\n",
    "                day['forecast']['condition']['text']\n",
    "            ])"
   ]
  },
  {
   "cell_type": "markdown",
   "id": "1b249f8e-03b2-4dca-b49f-fcfb715b1786",
   "metadata": {
    "jp-MarkdownHeadingCollapsed": true,
    "tags": []
   },
   "source": [
    "Now let's do the same for hourly forecast data. This is going to be easier with the work we did in Section IV. We would have to write two for loops if we hadn't created our forecast_hour object. Now we can replicate the process for writing the daily forecast csv with the fields from forecast_hour.\n",
    "\n",
    "Recall one element in forecast_hour looks like this:\n",
    "\n",
    "```python\n",
    "{'date': '2022-01-16', 'hour': '2022-01-16 00:00', 'forecast': {'time_epoch': 1642309200, 'time': '2022-01-16 00:00', 'temp_c': -8.4, 'temp_f': 16.9, 'is_day': 0, 'condition': {'text': 'Clear', 'icon': '//cdn.weatherapi.com/weather/64x64/night/113.png', 'code': 1000}, 'wind_mph': 8.5, 'wind_kph': 13.7, 'wind_degree': 356, 'wind_dir': 'N', 'pressure_mb': 1029.0, 'pressure_in': 30.4, 'precip_mm': 0.0, 'precip_in': 0.0, 'humidity': 28, 'cloud': 0, 'feelslike_c': -14.4, 'feelslike_f': 6.1, 'windchill_c': -14.4, 'windchill_f': 6.1, 'heatindex_c': -8.4, 'heatindex_f': 16.9, 'dewpoint_c': -23.7, 'dewpoint_f': -10.7, 'will_it_rain': 0, 'chance_of_rain': 0, 'will_it_snow': 0, 'chance_of_snow': 0, 'vis_km': 10.0, 'vis_miles': 6.0, 'gust_mph': 11.0, 'gust_kph': 17.6, 'uv': 1.0}}\n",
    "```\n",
    "\n",
    "Using the daily_forecast code block as an example, write a csv for the hourly forecast data with the following fields:\n",
    "\n",
    "1. Date \n",
    "2. Time \n",
    "3. Temperature in fahrenheit\n",
    "4. Humidity\n",
    "4. Chance of rain  \n",
    "5. Chance of snow \n",
    "6. Visibility in kilometers \n",
    "6. Wind speed in kph \n",
    "6. Wind direction \n",
    "6. Weather condition\n",
    "\n",
    "Remember, there should be 72 rows. "
   ]
  },
  {
   "cell_type": "code",
   "execution_count": 13,
   "id": "3373ae3e-d34b-4753-969a-6aa558e786e2",
   "metadata": {},
   "outputs": [],
   "source": [
    "with open('hourly_forecast.csv', 'w', newline = '') as file: # Create a new csv file named 'hourly_forecast'\n",
    "    hourly_forecast = csv.writer(file, delimiter = ',') # Instantiate a csv.writer() object, writing to 'hourly_forecast.csv'\n",
    "    hourly_forecast.writerow(['date', 'hour' ,'temp_f', 'humidity', 'chance_of_rain', 'chance_of_snow', 'vis_km','wind_kph','wind_dir', 'condition_text']) # Write the header for our csv file\n",
    "    \n",
    "    for hour in forecast_hour: # Loop through our forecast_day list and write the following fields in our csv file\n",
    "            hourly_forecast.writerow([\n",
    "                hour['date'], \n",
    "                hour['hour'],\n",
    "                hour['forecast']['temp_f'], \n",
    "                hour['forecast']['humidity'],\n",
    "                hour['forecast']['chance_of_rain'],\n",
    "                hour['forecast']['chance_of_snow'],\n",
    "                hour['forecast']['vis_km'],\n",
    "                hour['forecast']['wind_kph'],\n",
    "                hour['forecast']['wind_dir'],\n",
    "                hour['forecast']['condition']['text']\n",
    "            ])"
   ]
  }
 ],
 "metadata": {
  "kernelspec": {
   "display_name": "Python 3 (ipykernel)",
   "language": "python",
   "name": "python3"
  },
  "language_info": {
   "codemirror_mode": {
    "name": "ipython",
    "version": 3
   },
   "file_extension": ".py",
   "mimetype": "text/x-python",
   "name": "python",
   "nbconvert_exporter": "python",
   "pygments_lexer": "ipython3",
   "version": "3.9.6"
  }
 },
 "nbformat": 4,
 "nbformat_minor": 5
}
